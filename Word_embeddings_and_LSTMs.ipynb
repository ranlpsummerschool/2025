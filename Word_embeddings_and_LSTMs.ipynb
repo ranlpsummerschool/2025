{
  "nbformat": 4,
  "nbformat_minor": 0,
  "metadata": {
    "colab": {
      "provenance": [],
      "include_colab_link": true
    },
    "kernelspec": {
      "name": "python3",
      "display_name": "Python 3"
    },
    "language_info": {
      "name": "python"
    },
    "widgets": {
      "application/vnd.jupyter.widget-state+json": {
        "752be37cf0944f4990c32b166fa06e48": {
          "model_module": "@jupyter-widgets/controls",
          "model_name": "HBoxModel",
          "model_module_version": "1.5.0",
          "state": {
            "_dom_classes": [],
            "_model_module": "@jupyter-widgets/controls",
            "_model_module_version": "1.5.0",
            "_model_name": "HBoxModel",
            "_view_count": null,
            "_view_module": "@jupyter-widgets/controls",
            "_view_module_version": "1.5.0",
            "_view_name": "HBoxView",
            "box_style": "",
            "children": [
              "IPY_MODEL_5ea7116b06f146609a48c001992626c5",
              "IPY_MODEL_a07f4a6afc78467296d16c0e5ec19a0d",
              "IPY_MODEL_04f3e4b5ed5649dc9ac1e71d8a42e061"
            ],
            "layout": "IPY_MODEL_45ac3b8efacb45c1bade437387336706"
          }
        },
        "5ea7116b06f146609a48c001992626c5": {
          "model_module": "@jupyter-widgets/controls",
          "model_name": "HTMLModel",
          "model_module_version": "1.5.0",
          "state": {
            "_dom_classes": [],
            "_model_module": "@jupyter-widgets/controls",
            "_model_module_version": "1.5.0",
            "_model_name": "HTMLModel",
            "_view_count": null,
            "_view_module": "@jupyter-widgets/controls",
            "_view_module_version": "1.5.0",
            "_view_name": "HTMLView",
            "description": "",
            "description_tooltip": null,
            "layout": "IPY_MODEL_e1b38d7456f6463e88a24710b0f70c96",
            "placeholder": "​",
            "style": "IPY_MODEL_afe55d2e6050455e8bab375ef9b0892a",
            "value": "100%"
          }
        },
        "a07f4a6afc78467296d16c0e5ec19a0d": {
          "model_module": "@jupyter-widgets/controls",
          "model_name": "FloatProgressModel",
          "model_module_version": "1.5.0",
          "state": {
            "_dom_classes": [],
            "_model_module": "@jupyter-widgets/controls",
            "_model_module_version": "1.5.0",
            "_model_name": "FloatProgressModel",
            "_view_count": null,
            "_view_module": "@jupyter-widgets/controls",
            "_view_module_version": "1.5.0",
            "_view_name": "ProgressView",
            "bar_style": "success",
            "description": "",
            "description_tooltip": null,
            "layout": "IPY_MODEL_300fee4e0335489e88c28bea1f82fe78",
            "max": 3099,
            "min": 0,
            "orientation": "horizontal",
            "style": "IPY_MODEL_cd3a0528eaa949b2a10a80d33792b29f",
            "value": 3099
          }
        },
        "04f3e4b5ed5649dc9ac1e71d8a42e061": {
          "model_module": "@jupyter-widgets/controls",
          "model_name": "HTMLModel",
          "model_module_version": "1.5.0",
          "state": {
            "_dom_classes": [],
            "_model_module": "@jupyter-widgets/controls",
            "_model_module_version": "1.5.0",
            "_model_name": "HTMLModel",
            "_view_count": null,
            "_view_module": "@jupyter-widgets/controls",
            "_view_module_version": "1.5.0",
            "_view_name": "HTMLView",
            "description": "",
            "description_tooltip": null,
            "layout": "IPY_MODEL_dcbcadd277d24b3787bcd7e7ee509598",
            "placeholder": "​",
            "style": "IPY_MODEL_52f7e15a1fc8451599cdadbebb89b17f",
            "value": " 3099/3099 [00:22&lt;00:00, 157.05it/s]"
          }
        },
        "45ac3b8efacb45c1bade437387336706": {
          "model_module": "@jupyter-widgets/base",
          "model_name": "LayoutModel",
          "model_module_version": "1.2.0",
          "state": {
            "_model_module": "@jupyter-widgets/base",
            "_model_module_version": "1.2.0",
            "_model_name": "LayoutModel",
            "_view_count": null,
            "_view_module": "@jupyter-widgets/base",
            "_view_module_version": "1.2.0",
            "_view_name": "LayoutView",
            "align_content": null,
            "align_items": null,
            "align_self": null,
            "border": null,
            "bottom": null,
            "display": null,
            "flex": null,
            "flex_flow": null,
            "grid_area": null,
            "grid_auto_columns": null,
            "grid_auto_flow": null,
            "grid_auto_rows": null,
            "grid_column": null,
            "grid_gap": null,
            "grid_row": null,
            "grid_template_areas": null,
            "grid_template_columns": null,
            "grid_template_rows": null,
            "height": null,
            "justify_content": null,
            "justify_items": null,
            "left": null,
            "margin": null,
            "max_height": null,
            "max_width": null,
            "min_height": null,
            "min_width": null,
            "object_fit": null,
            "object_position": null,
            "order": null,
            "overflow": null,
            "overflow_x": null,
            "overflow_y": null,
            "padding": null,
            "right": null,
            "top": null,
            "visibility": null,
            "width": null
          }
        },
        "e1b38d7456f6463e88a24710b0f70c96": {
          "model_module": "@jupyter-widgets/base",
          "model_name": "LayoutModel",
          "model_module_version": "1.2.0",
          "state": {
            "_model_module": "@jupyter-widgets/base",
            "_model_module_version": "1.2.0",
            "_model_name": "LayoutModel",
            "_view_count": null,
            "_view_module": "@jupyter-widgets/base",
            "_view_module_version": "1.2.0",
            "_view_name": "LayoutView",
            "align_content": null,
            "align_items": null,
            "align_self": null,
            "border": null,
            "bottom": null,
            "display": null,
            "flex": null,
            "flex_flow": null,
            "grid_area": null,
            "grid_auto_columns": null,
            "grid_auto_flow": null,
            "grid_auto_rows": null,
            "grid_column": null,
            "grid_gap": null,
            "grid_row": null,
            "grid_template_areas": null,
            "grid_template_columns": null,
            "grid_template_rows": null,
            "height": null,
            "justify_content": null,
            "justify_items": null,
            "left": null,
            "margin": null,
            "max_height": null,
            "max_width": null,
            "min_height": null,
            "min_width": null,
            "object_fit": null,
            "object_position": null,
            "order": null,
            "overflow": null,
            "overflow_x": null,
            "overflow_y": null,
            "padding": null,
            "right": null,
            "top": null,
            "visibility": null,
            "width": null
          }
        },
        "afe55d2e6050455e8bab375ef9b0892a": {
          "model_module": "@jupyter-widgets/controls",
          "model_name": "DescriptionStyleModel",
          "model_module_version": "1.5.0",
          "state": {
            "_model_module": "@jupyter-widgets/controls",
            "_model_module_version": "1.5.0",
            "_model_name": "DescriptionStyleModel",
            "_view_count": null,
            "_view_module": "@jupyter-widgets/base",
            "_view_module_version": "1.2.0",
            "_view_name": "StyleView",
            "description_width": ""
          }
        },
        "300fee4e0335489e88c28bea1f82fe78": {
          "model_module": "@jupyter-widgets/base",
          "model_name": "LayoutModel",
          "model_module_version": "1.2.0",
          "state": {
            "_model_module": "@jupyter-widgets/base",
            "_model_module_version": "1.2.0",
            "_model_name": "LayoutModel",
            "_view_count": null,
            "_view_module": "@jupyter-widgets/base",
            "_view_module_version": "1.2.0",
            "_view_name": "LayoutView",
            "align_content": null,
            "align_items": null,
            "align_self": null,
            "border": null,
            "bottom": null,
            "display": null,
            "flex": null,
            "flex_flow": null,
            "grid_area": null,
            "grid_auto_columns": null,
            "grid_auto_flow": null,
            "grid_auto_rows": null,
            "grid_column": null,
            "grid_gap": null,
            "grid_row": null,
            "grid_template_areas": null,
            "grid_template_columns": null,
            "grid_template_rows": null,
            "height": null,
            "justify_content": null,
            "justify_items": null,
            "left": null,
            "margin": null,
            "max_height": null,
            "max_width": null,
            "min_height": null,
            "min_width": null,
            "object_fit": null,
            "object_position": null,
            "order": null,
            "overflow": null,
            "overflow_x": null,
            "overflow_y": null,
            "padding": null,
            "right": null,
            "top": null,
            "visibility": null,
            "width": null
          }
        },
        "cd3a0528eaa949b2a10a80d33792b29f": {
          "model_module": "@jupyter-widgets/controls",
          "model_name": "ProgressStyleModel",
          "model_module_version": "1.5.0",
          "state": {
            "_model_module": "@jupyter-widgets/controls",
            "_model_module_version": "1.5.0",
            "_model_name": "ProgressStyleModel",
            "_view_count": null,
            "_view_module": "@jupyter-widgets/base",
            "_view_module_version": "1.2.0",
            "_view_name": "StyleView",
            "bar_color": null,
            "description_width": ""
          }
        },
        "dcbcadd277d24b3787bcd7e7ee509598": {
          "model_module": "@jupyter-widgets/base",
          "model_name": "LayoutModel",
          "model_module_version": "1.2.0",
          "state": {
            "_model_module": "@jupyter-widgets/base",
            "_model_module_version": "1.2.0",
            "_model_name": "LayoutModel",
            "_view_count": null,
            "_view_module": "@jupyter-widgets/base",
            "_view_module_version": "1.2.0",
            "_view_name": "LayoutView",
            "align_content": null,
            "align_items": null,
            "align_self": null,
            "border": null,
            "bottom": null,
            "display": null,
            "flex": null,
            "flex_flow": null,
            "grid_area": null,
            "grid_auto_columns": null,
            "grid_auto_flow": null,
            "grid_auto_rows": null,
            "grid_column": null,
            "grid_gap": null,
            "grid_row": null,
            "grid_template_areas": null,
            "grid_template_columns": null,
            "grid_template_rows": null,
            "height": null,
            "justify_content": null,
            "justify_items": null,
            "left": null,
            "margin": null,
            "max_height": null,
            "max_width": null,
            "min_height": null,
            "min_width": null,
            "object_fit": null,
            "object_position": null,
            "order": null,
            "overflow": null,
            "overflow_x": null,
            "overflow_y": null,
            "padding": null,
            "right": null,
            "top": null,
            "visibility": null,
            "width": null
          }
        },
        "52f7e15a1fc8451599cdadbebb89b17f": {
          "model_module": "@jupyter-widgets/controls",
          "model_name": "DescriptionStyleModel",
          "model_module_version": "1.5.0",
          "state": {
            "_model_module": "@jupyter-widgets/controls",
            "_model_module_version": "1.5.0",
            "_model_name": "DescriptionStyleModel",
            "_view_count": null,
            "_view_module": "@jupyter-widgets/base",
            "_view_module_version": "1.2.0",
            "_view_name": "StyleView",
            "description_width": ""
          }
        },
        "60d1b0414e9f4a6a8850723200dabb2b": {
          "model_module": "@jupyter-widgets/controls",
          "model_name": "HBoxModel",
          "model_module_version": "1.5.0",
          "state": {
            "_dom_classes": [],
            "_model_module": "@jupyter-widgets/controls",
            "_model_module_version": "1.5.0",
            "_model_name": "HBoxModel",
            "_view_count": null,
            "_view_module": "@jupyter-widgets/controls",
            "_view_module_version": "1.5.0",
            "_view_name": "HBoxView",
            "box_style": "",
            "children": [
              "IPY_MODEL_9920a5c74fb24b6f8f34eb5768f493fe",
              "IPY_MODEL_7124b9decb764c7e8af37dfad890c624",
              "IPY_MODEL_b765ebe2afb6411386be6f6db816bd93"
            ],
            "layout": "IPY_MODEL_6951096e00394c98a0ecd2c9351f308e"
          }
        },
        "9920a5c74fb24b6f8f34eb5768f493fe": {
          "model_module": "@jupyter-widgets/controls",
          "model_name": "HTMLModel",
          "model_module_version": "1.5.0",
          "state": {
            "_dom_classes": [],
            "_model_module": "@jupyter-widgets/controls",
            "_model_module_version": "1.5.0",
            "_model_name": "HTMLModel",
            "_view_count": null,
            "_view_module": "@jupyter-widgets/controls",
            "_view_module_version": "1.5.0",
            "_view_name": "HTMLView",
            "description": "",
            "description_tooltip": null,
            "layout": "IPY_MODEL_568cf4b4dea34255809719cd71b5e770",
            "placeholder": "​",
            "style": "IPY_MODEL_5e47c636b5394113a03f9dbe01a268f3",
            "value": "100%"
          }
        },
        "7124b9decb764c7e8af37dfad890c624": {
          "model_module": "@jupyter-widgets/controls",
          "model_name": "FloatProgressModel",
          "model_module_version": "1.5.0",
          "state": {
            "_dom_classes": [],
            "_model_module": "@jupyter-widgets/controls",
            "_model_module_version": "1.5.0",
            "_model_name": "FloatProgressModel",
            "_view_count": null,
            "_view_module": "@jupyter-widgets/controls",
            "_view_module_version": "1.5.0",
            "_view_name": "ProgressView",
            "bar_style": "success",
            "description": "",
            "description_tooltip": null,
            "layout": "IPY_MODEL_437407bb5bb74bf380566995c2870cb9",
            "max": 3099,
            "min": 0,
            "orientation": "horizontal",
            "style": "IPY_MODEL_7f348c16ad24431caf9bc5d7781eca4a",
            "value": 3099
          }
        },
        "b765ebe2afb6411386be6f6db816bd93": {
          "model_module": "@jupyter-widgets/controls",
          "model_name": "HTMLModel",
          "model_module_version": "1.5.0",
          "state": {
            "_dom_classes": [],
            "_model_module": "@jupyter-widgets/controls",
            "_model_module_version": "1.5.0",
            "_model_name": "HTMLModel",
            "_view_count": null,
            "_view_module": "@jupyter-widgets/controls",
            "_view_module_version": "1.5.0",
            "_view_name": "HTMLView",
            "description": "",
            "description_tooltip": null,
            "layout": "IPY_MODEL_720ec6b6af9c45ecac219eb8e831a086",
            "placeholder": "​",
            "style": "IPY_MODEL_2657ff957f5e4c12b31c5004048fa8a5",
            "value": " 3099/3099 [00:00&lt;00:00, 3347.73it/s]"
          }
        },
        "6951096e00394c98a0ecd2c9351f308e": {
          "model_module": "@jupyter-widgets/base",
          "model_name": "LayoutModel",
          "model_module_version": "1.2.0",
          "state": {
            "_model_module": "@jupyter-widgets/base",
            "_model_module_version": "1.2.0",
            "_model_name": "LayoutModel",
            "_view_count": null,
            "_view_module": "@jupyter-widgets/base",
            "_view_module_version": "1.2.0",
            "_view_name": "LayoutView",
            "align_content": null,
            "align_items": null,
            "align_self": null,
            "border": null,
            "bottom": null,
            "display": null,
            "flex": null,
            "flex_flow": null,
            "grid_area": null,
            "grid_auto_columns": null,
            "grid_auto_flow": null,
            "grid_auto_rows": null,
            "grid_column": null,
            "grid_gap": null,
            "grid_row": null,
            "grid_template_areas": null,
            "grid_template_columns": null,
            "grid_template_rows": null,
            "height": null,
            "justify_content": null,
            "justify_items": null,
            "left": null,
            "margin": null,
            "max_height": null,
            "max_width": null,
            "min_height": null,
            "min_width": null,
            "object_fit": null,
            "object_position": null,
            "order": null,
            "overflow": null,
            "overflow_x": null,
            "overflow_y": null,
            "padding": null,
            "right": null,
            "top": null,
            "visibility": null,
            "width": null
          }
        },
        "568cf4b4dea34255809719cd71b5e770": {
          "model_module": "@jupyter-widgets/base",
          "model_name": "LayoutModel",
          "model_module_version": "1.2.0",
          "state": {
            "_model_module": "@jupyter-widgets/base",
            "_model_module_version": "1.2.0",
            "_model_name": "LayoutModel",
            "_view_count": null,
            "_view_module": "@jupyter-widgets/base",
            "_view_module_version": "1.2.0",
            "_view_name": "LayoutView",
            "align_content": null,
            "align_items": null,
            "align_self": null,
            "border": null,
            "bottom": null,
            "display": null,
            "flex": null,
            "flex_flow": null,
            "grid_area": null,
            "grid_auto_columns": null,
            "grid_auto_flow": null,
            "grid_auto_rows": null,
            "grid_column": null,
            "grid_gap": null,
            "grid_row": null,
            "grid_template_areas": null,
            "grid_template_columns": null,
            "grid_template_rows": null,
            "height": null,
            "justify_content": null,
            "justify_items": null,
            "left": null,
            "margin": null,
            "max_height": null,
            "max_width": null,
            "min_height": null,
            "min_width": null,
            "object_fit": null,
            "object_position": null,
            "order": null,
            "overflow": null,
            "overflow_x": null,
            "overflow_y": null,
            "padding": null,
            "right": null,
            "top": null,
            "visibility": null,
            "width": null
          }
        },
        "5e47c636b5394113a03f9dbe01a268f3": {
          "model_module": "@jupyter-widgets/controls",
          "model_name": "DescriptionStyleModel",
          "model_module_version": "1.5.0",
          "state": {
            "_model_module": "@jupyter-widgets/controls",
            "_model_module_version": "1.5.0",
            "_model_name": "DescriptionStyleModel",
            "_view_count": null,
            "_view_module": "@jupyter-widgets/base",
            "_view_module_version": "1.2.0",
            "_view_name": "StyleView",
            "description_width": ""
          }
        },
        "437407bb5bb74bf380566995c2870cb9": {
          "model_module": "@jupyter-widgets/base",
          "model_name": "LayoutModel",
          "model_module_version": "1.2.0",
          "state": {
            "_model_module": "@jupyter-widgets/base",
            "_model_module_version": "1.2.0",
            "_model_name": "LayoutModel",
            "_view_count": null,
            "_view_module": "@jupyter-widgets/base",
            "_view_module_version": "1.2.0",
            "_view_name": "LayoutView",
            "align_content": null,
            "align_items": null,
            "align_self": null,
            "border": null,
            "bottom": null,
            "display": null,
            "flex": null,
            "flex_flow": null,
            "grid_area": null,
            "grid_auto_columns": null,
            "grid_auto_flow": null,
            "grid_auto_rows": null,
            "grid_column": null,
            "grid_gap": null,
            "grid_row": null,
            "grid_template_areas": null,
            "grid_template_columns": null,
            "grid_template_rows": null,
            "height": null,
            "justify_content": null,
            "justify_items": null,
            "left": null,
            "margin": null,
            "max_height": null,
            "max_width": null,
            "min_height": null,
            "min_width": null,
            "object_fit": null,
            "object_position": null,
            "order": null,
            "overflow": null,
            "overflow_x": null,
            "overflow_y": null,
            "padding": null,
            "right": null,
            "top": null,
            "visibility": null,
            "width": null
          }
        },
        "7f348c16ad24431caf9bc5d7781eca4a": {
          "model_module": "@jupyter-widgets/controls",
          "model_name": "ProgressStyleModel",
          "model_module_version": "1.5.0",
          "state": {
            "_model_module": "@jupyter-widgets/controls",
            "_model_module_version": "1.5.0",
            "_model_name": "ProgressStyleModel",
            "_view_count": null,
            "_view_module": "@jupyter-widgets/base",
            "_view_module_version": "1.2.0",
            "_view_name": "StyleView",
            "bar_color": null,
            "description_width": ""
          }
        },
        "720ec6b6af9c45ecac219eb8e831a086": {
          "model_module": "@jupyter-widgets/base",
          "model_name": "LayoutModel",
          "model_module_version": "1.2.0",
          "state": {
            "_model_module": "@jupyter-widgets/base",
            "_model_module_version": "1.2.0",
            "_model_name": "LayoutModel",
            "_view_count": null,
            "_view_module": "@jupyter-widgets/base",
            "_view_module_version": "1.2.0",
            "_view_name": "LayoutView",
            "align_content": null,
            "align_items": null,
            "align_self": null,
            "border": null,
            "bottom": null,
            "display": null,
            "flex": null,
            "flex_flow": null,
            "grid_area": null,
            "grid_auto_columns": null,
            "grid_auto_flow": null,
            "grid_auto_rows": null,
            "grid_column": null,
            "grid_gap": null,
            "grid_row": null,
            "grid_template_areas": null,
            "grid_template_columns": null,
            "grid_template_rows": null,
            "height": null,
            "justify_content": null,
            "justify_items": null,
            "left": null,
            "margin": null,
            "max_height": null,
            "max_width": null,
            "min_height": null,
            "min_width": null,
            "object_fit": null,
            "object_position": null,
            "order": null,
            "overflow": null,
            "overflow_x": null,
            "overflow_y": null,
            "padding": null,
            "right": null,
            "top": null,
            "visibility": null,
            "width": null
          }
        },
        "2657ff957f5e4c12b31c5004048fa8a5": {
          "model_module": "@jupyter-widgets/controls",
          "model_name": "DescriptionStyleModel",
          "model_module_version": "1.5.0",
          "state": {
            "_model_module": "@jupyter-widgets/controls",
            "_model_module_version": "1.5.0",
            "_model_name": "DescriptionStyleModel",
            "_view_count": null,
            "_view_module": "@jupyter-widgets/base",
            "_view_module_version": "1.2.0",
            "_view_name": "StyleView",
            "description_width": ""
          }
        }
      }
    }
  },
  "cells": [
    {
      "cell_type": "markdown",
      "metadata": {
        "id": "view-in-github",
        "colab_type": "text"
      },
      "source": [
        "<a href=\"https://colab.research.google.com/github/ranlpsummerschool/2025/blob/main/Word_embeddings_and_LSTMs.ipynb\" target=\"_parent\"><img src=\"https://colab.research.google.com/assets/colab-badge.svg\" alt=\"Open In Colab\"/></a>"
      ]
    },
    {
      "cell_type": "markdown",
      "source": [
        "# **Word Embedding with Gensim**"
      ],
      "metadata": {
        "id": "v6BGjZfU49eB"
      }
    },
    {
      "cell_type": "markdown",
      "source": [
        "The advancement of deep learning in Natural Language Processing is often attributed to the advent of word embeddings. Rather than using the words themselves as features, neural network methods typically take as input dense, relatively low-dimensional vectors that model the meaning and usage of a word.The concept of word embeddings gained prominence through models like Word2Vec, pioneered by Thomas Mikolov and his Google team. Subsequently, various other methods emerged, including GloVe and FastText embeddings. In this notebook, we'll delve into word embeddings using the original Word2Vec method, as implemented in the Gensim library.\n",
        "\n",
        "Dataset : [Link](https://drive.google.com/file/d/1Gx0NsQEnOU5JFLdFfbZYvuj0pjLo1NJD/view?usp=sharing)"
      ],
      "metadata": {
        "id": "l0OByl12R3zL"
      }
    },
    {
      "cell_type": "markdown",
      "source": [
        "# Training word embedding\n",
        "\n",
        "Training word embeddings with Gensim couldn't be easier. The only thing we need is a corpus of sentences in the language under investigation."
      ],
      "metadata": {
        "id": "Mbrw1acZWU-e"
      }
    },
    {
      "cell_type": "code",
      "source": [
        "# Import libraries\n",
        "import os\n",
        "import csv\n",
        "import spacy\n",
        "\n",
        "class Corpus(object):\n",
        "\n",
        "    def __init__(self, filename):\n",
        "        self.filename = filename\n",
        "        self.nlp = spacy.blank(\"en\")\n",
        "\n",
        "    def __iter__(self):\n",
        "        with open(self.filename, \"r\") as i:\n",
        "            reader = csv.reader(i, delimiter=\",\")\n",
        "            # tokenise the lower cased text using spacy tokeniser\n",
        "            for _, abstract in reader:\n",
        "                tokens = [t.text.lower() for t in self.nlp(abstract)]\n",
        "                yield tokens\n",
        "\n",
        "\n",
        "documents = Corpus(\"data.csv\")"
      ],
      "metadata": {
        "id": "oTRTV0Qx1W9w"
      },
      "execution_count": null,
      "outputs": []
    },
    {
      "cell_type": "markdown",
      "source": [
        "When we train our word embeddings, gensim allows us to set a number of parameters. The most important of these are min_count, window, vector_size and sg:\n",
        "\n",
        "* **min_count** is the minimum frequency of the words in our corpus. For infrequent\n",
        "words, we just don't have enough information to train reliable word embeddings. It therefore makes sense to set this minimum frequency to at least 10. In these experiments, we'll set it to 100 to limit the size of our model even more.\n",
        "window is the number of words to the left and to the right that make up the context that word2vec will take into account.\n",
        "\n",
        "* **vector_size** is the dimensionality of the word vectors. This is generally between 100 and 1000. This dimensionality often forces us to make a trade-off: embeddings with a higher dimensionality are able to model more information, but also need more data to train.\n",
        "\n",
        "* **sg**: there are two algorithms to train word2vec: skip-gram and CBOW. Skip-gram tries to predict the context on the basis of the target word; CBOW tries to find the target on the basis of the context. By default, Gensim uses CBOW (sg=0).\n",
        "\n",
        "\n",
        "We'll investigate the impact of some of these parameters later."
      ],
      "metadata": {
        "id": "i9ua2CoYsBsT"
      }
    },
    {
      "cell_type": "code",
      "source": [
        "# import gensim model\n",
        "import gensim\n",
        "\n",
        "model = gensim.models.Word2Vec(documents, min_count=100, window=5, vector_size=100)"
      ],
      "metadata": {
        "id": "OKLdAsZMvecA"
      },
      "execution_count": null,
      "outputs": []
    },
    {
      "cell_type": "markdown",
      "source": [
        "# Using word embeddings\n",
        "\n",
        "Let's take a look at the trained model. The word embeddings are on its wv attribute, and we can access them by the using the token as key. For example, here is the embedding for nlp, with the requested 100 dimensions."
      ],
      "metadata": {
        "id": "PSO69ONLtfad"
      }
    },
    {
      "cell_type": "code",
      "source": [
        "model.wv[\"nlp\"]"
      ],
      "metadata": {
        "colab": {
          "base_uri": "https://localhost:8080/"
        },
        "id": "boEiu5iNuA-D",
        "outputId": "c8ce8b3f-e2ca-40e1-fa5a-6f95d5451269"
      },
      "execution_count": null,
      "outputs": [
        {
          "output_type": "execute_result",
          "data": {
            "text/plain": [
              "array([ 0.551755  , -1.2304133 ,  0.08102808, -0.5527448 ,  1.0911167 ,\n",
              "       -0.7452592 ,  0.44665095,  0.8106293 , -0.3039477 ,  2.2322342 ,\n",
              "        0.90254444, -2.0450523 ,  1.2755007 , -0.41744983, -0.45378175,\n",
              "        0.42947683, -2.107639  ,  2.2644184 ,  0.41825143,  2.2220743 ,\n",
              "        1.6328716 ,  0.18442976,  0.5999096 ,  0.0159471 , -2.6419916 ,\n",
              "       -2.741617  ,  0.48607594,  0.6055098 ,  1.537132  , -1.9011711 ,\n",
              "        1.2360287 ,  0.46759194,  1.2766322 ,  0.7932619 ,  0.6176449 ,\n",
              "       -1.6197178 , -1.4175447 , -4.3035994 , -0.22073619,  2.7440882 ,\n",
              "       -0.7364798 , -0.9203435 ,  1.9837404 ,  0.42800507, -1.984176  ,\n",
              "        0.07485121,  1.3148469 ,  1.0293969 , -0.0736394 , -3.4978237 ,\n",
              "        1.0196246 ,  0.7298942 ,  1.1485814 , -0.5338919 , -0.20072943,\n",
              "        0.12469541, -0.7015569 ,  1.0166456 ,  3.5783064 ,  0.01272335,\n",
              "       -0.46997648,  2.7733412 , -1.5879598 , -0.07018045,  0.13666421,\n",
              "        0.04184099, -0.984     , -2.0417688 ,  1.3752911 , -0.9800601 ,\n",
              "       -1.5927234 , -2.4848263 ,  0.27030718,  1.8552942 , -0.81082094,\n",
              "        1.4704617 ,  2.2875624 , -0.4414923 , -2.2535775 ,  1.2022336 ,\n",
              "        1.0487546 ,  2.8992314 , -0.9099159 ,  0.0718272 , -0.9952834 ,\n",
              "        1.9361479 , -0.51706344, -0.20411491, -1.539369  ,  0.9164266 ,\n",
              "        1.1135828 , -0.15024066, -0.22205482,  0.35685605, -1.4346826 ,\n",
              "       -0.24688509,  0.22375979, -0.5068705 ,  0.8210408 , -1.6503632 ],\n",
              "      dtype=float32)"
            ]
          },
          "metadata": {},
          "execution_count": 32
        }
      ]
    },
    {
      "cell_type": "markdown",
      "source": [
        "We can also easily find the similarity between two words. Similarity is measured as the cosine between the two word embeddings, and therefore ranges between -1 and +1. The higher the cosine, the more similar two words are. As expected, the figures below show that nmt (neural machine translation) is closer to smt (statistical machine translation) than to ner (named entity recognition)."
      ],
      "metadata": {
        "id": "4sTkW9cLuDuW"
      }
    },
    {
      "cell_type": "code",
      "source": [
        "print(model.wv.similarity(\"experiments\",\"results\"))\n",
        "print(model.wv.similarity(\"linguistics\",\"translation\"))\n",
        "\n",
        "# More specific example\n",
        "print(model.wv.similarity(\"nmt\", \"smt\"))\n",
        "print(model.wv.similarity(\"nmt\", \"ner\"))"
      ],
      "metadata": {
        "colab": {
          "base_uri": "https://localhost:8080/"
        },
        "id": "uO6Rnq_iuBUj",
        "outputId": "125efcdd-4b6a-4ac2-e581-507430ba42f5"
      },
      "execution_count": null,
      "outputs": [
        {
          "output_type": "stream",
          "name": "stdout",
          "text": [
            "0.5230499\n",
            "-0.08029384\n",
            "0.6635328\n",
            "0.39599994\n"
          ]
        }
      ]
    },
    {
      "cell_type": "markdown",
      "source": [
        "In a similar vein, we can find the words that are most similar to a target word. The words with the most similar embedding to bert are all semantically related to it: other types of pretrained models such as roberta, mbert, xlm, as well as the more general model type BERT represents (transformer and transformers), and more generally related words (pretrained)."
      ],
      "metadata": {
        "id": "vlZfhx1ru8kN"
      }
    },
    {
      "cell_type": "code",
      "source": [
        "model.wv.similar_by_word(\"bert\", topn=10)"
      ],
      "metadata": {
        "colab": {
          "base_uri": "https://localhost:8080/"
        },
        "id": "57EVfU_tu7TZ",
        "outputId": "605320e5-6f84-4768-d6dc-7c511fe9fce1"
      },
      "execution_count": null,
      "outputs": [
        {
          "output_type": "execute_result",
          "data": {
            "text/plain": [
              "[('roberta', 0.8036078810691833),\n",
              " ('transformer', 0.7684198021888733),\n",
              " ('elmo', 0.7176934480667114),\n",
              " ('pretrained', 0.702507734298706),\n",
              " ('transformers', 0.6953558921813965),\n",
              " ('xlnet', 0.6751936078071594),\n",
              " ('xlm', 0.6423220038414001),\n",
              " ('gpt-2', 0.6411187648773193),\n",
              " ('mbert', 0.634536623954773),\n",
              " ('lstm', 0.6029841303825378)]"
            ]
          },
          "metadata": {},
          "execution_count": 34
        }
      ]
    },
    {
      "cell_type": "code",
      "source": [
        "model.wv.similar_by_word(\"sentences\", topn=10)"
      ],
      "metadata": {
        "colab": {
          "base_uri": "https://localhost:8080/"
        },
        "id": "Q2gy0Bbo6NXz",
        "outputId": "01b2e8ad-cfe1-4577-f764-10b1da03758e"
      },
      "execution_count": null,
      "outputs": [
        {
          "output_type": "execute_result",
          "data": {
            "text/plain": [
              "[('documents', 0.7301439046859741),\n",
              " ('texts', 0.6985716223716736),\n",
              " ('phrases', 0.6926562190055847),\n",
              " ('paraphrases', 0.6891509890556335),\n",
              " ('tokens', 0.672874391078949),\n",
              " ('passages', 0.6652044057846069),\n",
              " ('keyphrases', 0.6587933301925659),\n",
              " ('words', 0.6580495834350586),\n",
              " ('strings', 0.6525547504425049),\n",
              " ('poems', 0.6509432792663574)]"
            ]
          },
          "metadata": {},
          "execution_count": 35
        }
      ]
    },
    {
      "cell_type": "markdown",
      "source": [
        "Interestingly, we can look for words that are similar to a set of words and dissimilar to another set of words at the same time. This allows us to look for analogies of the type BERT is to a transformer like an LSTM is to .... Our embedding model correctly predicts that LSTMs are a type of RNN, just like BERT is a particular type of transformer."
      ],
      "metadata": {
        "id": "e5fGObHav9XM"
      }
    },
    {
      "cell_type": "code",
      "source": [
        "model.wv.most_similar(positive=[\"transformer\", \"lstm\"], negative=[\"bert\"], topn=1)"
      ],
      "metadata": {
        "colab": {
          "base_uri": "https://localhost:8080/"
        },
        "id": "IvsSy-HTuBd3",
        "outputId": "be7300f0-4eb6-425d-a280-36a085ae95d2"
      },
      "execution_count": null,
      "outputs": [
        {
          "output_type": "execute_result",
          "data": {
            "text/plain": [
              "[('rnn', 0.8048167824745178)]"
            ]
          },
          "metadata": {},
          "execution_count": 36
        }
      ]
    },
    {
      "cell_type": "markdown",
      "source": [
        "Similarly, we can also zoom in on one of the meanings of ambiguous words. For example, in NLP tree has a very specific meaning, which is obvious from its nearest neighbours constituency, parse, dependency and syntax."
      ],
      "metadata": {
        "id": "Vo6CbbOywE3B"
      }
    },
    {
      "cell_type": "code",
      "source": [
        "model.wv.most_similar(positive=[\"tree\"], topn=10)"
      ],
      "metadata": {
        "colab": {
          "base_uri": "https://localhost:8080/"
        },
        "id": "WN-Cm-2Ev5AJ",
        "outputId": "a165e5e2-57dc-4e4f-a0cd-48df3409f26e"
      },
      "execution_count": null,
      "outputs": [
        {
          "output_type": "execute_result",
          "data": {
            "text/plain": [
              "[('trees', 0.8009945154190063),\n",
              " ('constituency', 0.7193728685379028),\n",
              " ('parse', 0.6991114616394043),\n",
              " ('dependency', 0.6574868559837341),\n",
              " ('recursive', 0.6508036851882935),\n",
              " ('constituent', 0.6427811980247498),\n",
              " ('formalism', 0.6094784140586853),\n",
              " ('hierarchical', 0.6044625043869019),\n",
              " ('syntax', 0.6018374562263489),\n",
              " ('parser', 0.5990293622016907)]"
            ]
          },
          "metadata": {},
          "execution_count": 37
        }
      ]
    },
    {
      "cell_type": "markdown",
      "source": [
        "However, if we specify we're looking for words that are similar to tree, but dissimilar to syntax, suddenly its standard meaning takes over, and forest crops up in its nearest neighbours."
      ],
      "metadata": {
        "id": "Jxm5HTKkwNiC"
      }
    },
    {
      "cell_type": "code",
      "source": [
        "model.wv.most_similar(positive=[\"tree\"], negative=[\"syntax\"], topn=10)"
      ],
      "metadata": {
        "colab": {
          "base_uri": "https://localhost:8080/"
        },
        "id": "LW8PU7uOwSCi",
        "outputId": "5072960d-335f-4d0d-f3bc-7dfe4f54c4a3"
      },
      "execution_count": null,
      "outputs": [
        {
          "output_type": "execute_result",
          "data": {
            "text/plain": [
              "[('forest', 0.4994959831237793),\n",
              " ('bayes', 0.43703070282936096),\n",
              " ('naive', 0.4339655637741089),\n",
              " ('normalized', 0.4249196946620941),\n",
              " ('logistic', 0.42490753531455994),\n",
              " ('nearest', 0.4202655255794525),\n",
              " ('regression', 0.4198456108570099),\n",
              " ('binary', 0.4129432439804077),\n",
              " ('crf', 0.4129071831703186),\n",
              " ('svm', 0.3923507034778595)]"
            ]
          },
          "metadata": {},
          "execution_count": 38
        }
      ]
    },
    {
      "cell_type": "markdown",
      "source": [
        "Finally, we can present the word2vec model with a list of words and ask it to identify the odd one out. It then uses the word embeddings to identify the word that is least similar to the other ones. For example, in the list lstm cnn gru svm transformer, it correctly identifies svm as the only non-neural model. In the list bert word2vec gpt-2 roberta xlnet, it correctly singles out word2vec as the only non-transormer model. In word2vec bert glove fasttext elmo, bert is singled out as the only transformer."
      ],
      "metadata": {
        "id": "jhqKa8WiwNd5"
      }
    },
    {
      "cell_type": "code",
      "source": [
        "print(model.wv.doesnt_match(\"lstm cnn gru svm transformer\".split()))\n",
        "print(model.wv.doesnt_match(\"bert word2vec gpt-2 roberta xlnet\".split()))\n",
        "print(model.wv.doesnt_match(\"word2vec bert glove fasttext elmo\".split()))"
      ],
      "metadata": {
        "colab": {
          "base_uri": "https://localhost:8080/"
        },
        "id": "U6K9XeZiwo6t",
        "outputId": "b0d8a791-5b2f-4c96-853f-6457b3082627"
      },
      "execution_count": null,
      "outputs": [
        {
          "output_type": "stream",
          "name": "stdout",
          "text": [
            "svm\n",
            "word2vec\n",
            "bert\n"
          ]
        }
      ]
    },
    {
      "cell_type": "markdown",
      "source": [
        "# Exploring hyperparameters\n",
        "\n",
        "We mentioned above there are a number of parameters we can set when training our embeddings. Let's investigate the impact some of these have on the result. Quantifying the quality of embeddings is a hard task. There exist quite a few data sets for evaluating the quality of English embeddings, but this is not the case for other languages or very specialized domains, such as NLP. Moreover, it's unclear what information good embeddings should capture. Should they model syntactic information as well as semantic knowledge? Should they capture semantic similarity, or merely topical relatedness? Often, the answer depends on the end task you want to use the embeddings for.\n",
        "\n",
        "Here we'll use a simple method for evaluating our embeddings. We'll count how many times two nearest neighbours in the vector space have the same part of speech. After all, if our embeddings model similarity (and not just relatedness) in meaning, we expect a noun to have another noun as nearest neighbour, and the same for verbs, adjectives, and so on.\n",
        "\n",
        "First we'll use spaCy to determine the part of speech of all the words in our vocabulary. Note that our evaluation metric does rely on the quality of spaCy's part-of-speech tagging, which may not be very accurate for low-frequency words out of context. Nevertheless, we'll assume it's good enough for our purposes."
      ],
      "metadata": {
        "id": "cPs1iQnLz08H"
      }
    },
    {
      "cell_type": "code",
      "source": [
        "import spacy\n",
        "from tqdm.notebook import tqdm\n",
        "\n",
        "nlp = spacy.load(\"en_core_web_sm\")\n",
        "\n",
        "word2pos = {}\n",
        "for word in tqdm(model.wv.key_to_index):\n",
        "    word2pos[word] = nlp(word)[0].pos_\n",
        "\n",
        "word2pos[\"translation\"]"
      ],
      "metadata": {
        "colab": {
          "base_uri": "https://localhost:8080/",
          "height": 67,
          "referenced_widgets": [
            "752be37cf0944f4990c32b166fa06e48",
            "5ea7116b06f146609a48c001992626c5",
            "a07f4a6afc78467296d16c0e5ec19a0d",
            "04f3e4b5ed5649dc9ac1e71d8a42e061",
            "45ac3b8efacb45c1bade437387336706",
            "e1b38d7456f6463e88a24710b0f70c96",
            "afe55d2e6050455e8bab375ef9b0892a",
            "300fee4e0335489e88c28bea1f82fe78",
            "cd3a0528eaa949b2a10a80d33792b29f",
            "dcbcadd277d24b3787bcd7e7ee509598",
            "52f7e15a1fc8451599cdadbebb89b17f"
          ]
        },
        "id": "nUZY11rg0Yev",
        "outputId": "e6a6821e-5901-4d0c-cf20-32837832addc"
      },
      "execution_count": null,
      "outputs": [
        {
          "output_type": "display_data",
          "data": {
            "text/plain": [
              "  0%|          | 0/3099 [00:00<?, ?it/s]"
            ],
            "application/vnd.jupyter.widget-view+json": {
              "version_major": 2,
              "version_minor": 0,
              "model_id": "752be37cf0944f4990c32b166fa06e48"
            }
          },
          "metadata": {}
        },
        {
          "output_type": "execute_result",
          "data": {
            "text/plain": [
              "'NOUN'"
            ],
            "application/vnd.google.colaboratory.intrinsic+json": {
              "type": "string"
            }
          },
          "metadata": {},
          "execution_count": 42
        }
      ]
    },
    {
      "cell_type": "markdown",
      "source": [
        "\n",
        "Then we write a simple method that takes a model and looks up the nearest neighbour to every word in its vocabulary. It returns the number of times this nearest neighbour has the same part of speech: a percentage we'll call the accuracy."
      ],
      "metadata": {
        "id": "_U0St6RWz1Fm"
      }
    },
    {
      "cell_type": "code",
      "source": [
        "import numpy as np\n",
        "\n",
        "def evaluate(model, word2pos):\n",
        "    same = 0\n",
        "    for word in tqdm(model.wv.key_to_index):\n",
        "        most_similar = model.wv.similar_by_word(word, topn=1)[0][0]\n",
        "        if word2pos[most_similar] == word2pos[word]:\n",
        "            same += 1\n",
        "    return same/len(model.wv.key_to_index)\n",
        "\n",
        "evaluate(model, word2pos)"
      ],
      "metadata": {
        "colab": {
          "base_uri": "https://localhost:8080/",
          "height": 66,
          "referenced_widgets": [
            "60d1b0414e9f4a6a8850723200dabb2b",
            "9920a5c74fb24b6f8f34eb5768f493fe",
            "7124b9decb764c7e8af37dfad890c624",
            "b765ebe2afb6411386be6f6db816bd93",
            "6951096e00394c98a0ecd2c9351f308e",
            "568cf4b4dea34255809719cd71b5e770",
            "5e47c636b5394113a03f9dbe01a268f3",
            "437407bb5bb74bf380566995c2870cb9",
            "7f348c16ad24431caf9bc5d7781eca4a",
            "720ec6b6af9c45ecac219eb8e831a086",
            "2657ff957f5e4c12b31c5004048fa8a5"
          ]
        },
        "id": "7kAo7jHj0ljM",
        "outputId": "3676b0de-05d1-4506-a84b-9dc1fcd470b7"
      },
      "execution_count": null,
      "outputs": [
        {
          "output_type": "display_data",
          "data": {
            "text/plain": [
              "  0%|          | 0/3099 [00:00<?, ?it/s]"
            ],
            "application/vnd.jupyter.widget-view+json": {
              "version_major": 2,
              "version_minor": 0,
              "model_id": "60d1b0414e9f4a6a8850723200dabb2b"
            }
          },
          "metadata": {}
        },
        {
          "output_type": "execute_result",
          "data": {
            "text/plain": [
              "0.6489190061310101"
            ]
          },
          "metadata": {},
          "execution_count": 43
        }
      ]
    },
    {
      "cell_type": "markdown",
      "source": [
        "Now we vary some of the settings we introduced above. In particular we're interested in the influence of embedding size (the dimensionality of the trained embeddings), and the size of the context window. We vary the embedding size between 100, 200 and 300,and the context window between 2, 5 and 10. This means we'll train 9 models in total, which obviously takes a bit of time. Feel free to go grab a coffee."
      ],
      "metadata": {
        "id": "Elre9UN90kQ_"
      }
    },
    {
      "cell_type": "code",
      "source": [
        "sizes = [100, 200, 300]\n",
        "windows = [2,5,10]\n",
        "\n",
        "df = pd.DataFrame(index=windows, columns=sizes)\n",
        "\n",
        "for size in sizes:\n",
        "    for window in windows:\n",
        "        print(\"Size:\", size, \"Window:\", window)\n",
        "        model = gensim.models.Word2Vec(documents, min_count=100, window=window, vector_size=size)\n",
        "        acc = evaluate(model, word2pos)\n",
        "        df[size][window] = acc\n",
        "\n",
        "df"
      ],
      "metadata": {
        "colab": {
          "base_uri": "https://localhost:8080/"
        },
        "id": "qKWTAuJv02Ft",
        "outputId": "51b83d87-954e-4046-bb53-c1bfdd8d3477"
      },
      "execution_count": null,
      "outputs": [
        {
          "output_type": "stream",
          "name": "stdout",
          "text": [
            "Size: 100 Window: 2\n"
          ]
        }
      ]
    },
    {
      "cell_type": "markdown",
      "source": [
        "Although the accuracies of all models are very similar, the results do show some interesting patterns.\n",
        "\n",
        "First, it looks like smaller contexts work better than larger ones. This is logical, as our evaluation metric is a syntactic one: the closest context words contain much more useful information about the part of speech of a word than those further away.\n",
        "\n",
        "Second, higher-dimensional word embeddings do not necessarily work better than lower-dimensional ones. This may sound counter-intuitive, as higher-dimensional embeddings are able to capture more information. Still, larger embeddings also require more data, while we're using a pretty small corpus."
      ],
      "metadata": {
        "id": "zEIsOiQTz1IK"
      }
    },
    {
      "cell_type": "code",
      "source": [
        "df.plot()"
      ],
      "metadata": {
        "colab": {
          "base_uri": "https://localhost:8080/",
          "height": 447
        },
        "id": "N9ty2KWH0jXb",
        "outputId": "fd763959-11c5-4440-f801-3007a2deaf22"
      },
      "execution_count": null,
      "outputs": [
        {
          "output_type": "execute_result",
          "data": {
            "text/plain": [
              "<Axes: >"
            ]
          },
          "metadata": {},
          "execution_count": 15
        },
        {
          "output_type": "display_data",
          "data": {
            "text/plain": [
              "<Figure size 640x480 with 1 Axes>"
            ],
            "image/png": "[encoded data removed]"
          },
          "metadata": {}
        }
      ]
    },
    {
      "cell_type": "markdown",
      "source": [
        "# Conclusions\n",
        "\n",
        "Word embeddings are one of the most exciting trends on Natural Language Processing since the 2000s. They allow us to model the meaning and usage of a word, and discover words that behave similarly. This is crucial for the generalization capacity of many machine learning models. Moving from raw strings to embeddings allows them to generalize across words that have a similar meaning, and discover patterns that had previously escaped them."
      ],
      "metadata": {
        "id": "Djk6kVVkz1Lp"
      }
    },
    {
      "cell_type": "markdown",
      "source": [
        "### **Simple Task for you**\n",
        "Download a pretrained word2vec wordembedding and perform above similarity checks and evaluate and compare your results."
      ],
      "metadata": {
        "id": "bQCo9tniVkH3"
      }
    },
    {
      "cell_type": "code",
      "source": [
        "# Your code goes here"
      ],
      "metadata": {
        "id": "ITb9M2iDAjsl"
      },
      "execution_count": null,
      "outputs": []
    },
    {
      "cell_type": "markdown",
      "source": [
        "# ***LSTM & CNN for classification***\n",
        "This part describes how to implement LSTM models for text binary classification using tensorflow and keras."
      ],
      "metadata": {
        "id": "UQa8jTv89eSo"
      }
    },
    {
      "cell_type": "markdown",
      "source": [
        "## Install relevant libraries."
      ],
      "metadata": {
        "id": "Uu4AorL49hu3"
      }
    },
    {
      "cell_type": "code",
      "source": [
        "!pip install datasets scikit-learn"
      ],
      "metadata": {
        "id": "THKB_Z-L9lNQ"
      },
      "execution_count": null,
      "outputs": []
    },
    {
      "cell_type": "markdown",
      "source": [
        "## Load dataset\n",
        "We use imdb dataset for sentiment classification"
      ],
      "metadata": {
        "id": "mU3ob87D9yd3"
      }
    },
    {
      "cell_type": "code",
      "source": [
        "import random\n",
        "from datasets import load_dataset\n",
        "from sklearn.model_selection import train_test_split\n",
        "\n",
        "RANDOM_SEED = 500\n",
        "VALIDATION_SIZE = 0.2\n",
        "\n",
        "imdb = load_dataset(\"imdb\")\n",
        "\n",
        "train_split, validation_split = train_test_split(imdb['train'],test_size = VALIDATION_SIZE, random_state=RANDOM_SEED)\n",
        "\n",
        "train_txt = train_split['text']\n",
        "train_lbl = train_split['label']\n",
        "\n",
        "val_txt = validation_split['text']\n",
        "val_lbl = validation_split['label']\n",
        "\n",
        "test_txt = imdb['test']['text']\n",
        "test_lbl = imdb['test']['label']\n",
        "\n",
        "print(f'training set size = {len(train_txt)} | test set size = {len(test_txt)} | validation set size = {len(val_txt)}')"
      ],
      "metadata": {
        "id": "GYgww9gx9rTH"
      },
      "execution_count": null,
      "outputs": []
    },
    {
      "cell_type": "markdown",
      "source": [
        "## Vectorise the dataset and build the vocabulary"
      ],
      "metadata": {
        "id": "AhtEReZj93V_"
      }
    },
    {
      "cell_type": "code",
      "source": [
        "import numpy as np\n",
        "import tensorflow as tf\n",
        "from tensorflow import keras\n",
        "from tensorflow.keras.layers import TextVectorization\n",
        "\n",
        "MAX_LENGTH = 300\n",
        "MAX_VOCAB_SIZE = 20000\n",
        "BATCH_SIZE = 128\n",
        "\n",
        "vectorizer = TextVectorization(max_tokens=MAX_VOCAB_SIZE, output_sequence_length=MAX_LENGTH)\n",
        "text_ds = tf.data.Dataset.from_tensor_slices(train_txt).batch(BATCH_SIZE)\n",
        "vectorizer.adapt(text_ds)"
      ],
      "metadata": {
        "id": "n84k8Pg_9363"
      },
      "execution_count": null,
      "outputs": []
    },
    {
      "cell_type": "code",
      "source": [
        "vectorizer.get_vocabulary()[:5]"
      ],
      "metadata": {
        "id": "ANCZq4hk978n"
      },
      "execution_count": null,
      "outputs": []
    },
    {
      "cell_type": "code",
      "source": [
        "output = vectorizer([[\"You are welcome to the RANLP conference\"]])\n",
        "output.numpy()[0, :8]"
      ],
      "metadata": {
        "id": "9pbFhVlS9-bu"
      },
      "execution_count": null,
      "outputs": []
    },
    {
      "cell_type": "markdown",
      "source": [
        "## Download embeddings"
      ],
      "metadata": {
        "id": "48eP0y2y-Af_"
      }
    },
    {
      "cell_type": "code",
      "source": [
        "!wget https://downloads.cs.stanford.edu/nlp/data/glove.6B.zip"
      ],
      "metadata": {
        "id": "04mP9Enz-BQ_"
      },
      "execution_count": null,
      "outputs": []
    },
    {
      "cell_type": "code",
      "source": [
        "!unzip -q glove.6B.zip"
      ],
      "metadata": {
        "id": "WbyxTq---Dxf"
      },
      "execution_count": null,
      "outputs": []
    },
    {
      "cell_type": "code",
      "source": [
        "!ls"
      ],
      "metadata": {
        "id": "O3YciKgf-Gm3"
      },
      "execution_count": null,
      "outputs": []
    },
    {
      "cell_type": "markdown",
      "source": [
        "## Create word index and embeddings index"
      ],
      "metadata": {
        "id": "00t74lRz-Ih_"
      }
    },
    {
      "cell_type": "code",
      "source": [
        "voc = vectorizer.get_vocabulary()\n",
        "word_index = dict(zip(voc, range(len(voc))))\n",
        "\n",
        "path_to_glove_file = 'glove.6B.100d.txt'\n",
        "\n",
        "embeddings_index = {}\n",
        "with open(path_to_glove_file) as f:\n",
        "    for line in f:\n",
        "        word, coefs = line.split(maxsplit=1)\n",
        "        coefs = np.fromstring(coefs, \"f\", sep=\" \")\n",
        "        embeddings_index[word] = coefs\n",
        "\n",
        "print(\"Found %s word vectors.\" % len(embeddings_index))"
      ],
      "metadata": {
        "id": "F_Y53HzC-JRP"
      },
      "execution_count": null,
      "outputs": []
    },
    {
      "cell_type": "markdown",
      "source": [
        "## Build embeddings matrix"
      ],
      "metadata": {
        "id": "fdGuPD1H-MuW"
      }
    },
    {
      "cell_type": "code",
      "source": [
        "num_tokens = len(voc) + 2\n",
        "embedding_dim = 100\n",
        "hits = 0\n",
        "misses = 0\n",
        "\n",
        "# Prepare embedding matrix\n",
        "embedding_matrix = np.zeros((num_tokens, embedding_dim))\n",
        "for word, i in word_index.items():\n",
        "    embedding_vector = embeddings_index.get(word)\n",
        "    if embedding_vector is not None:\n",
        "        # Words not found in embedding index will be all-zeros.\n",
        "        # This includes the representation for \"padding\" and \"OOV\"\n",
        "        embedding_matrix[i] = embedding_vector\n",
        "        hits += 1\n",
        "    else:\n",
        "        misses += 1\n",
        "print(\"Converted %d words (%d misses)\" % (hits, misses))"
      ],
      "metadata": {
        "id": "dP9vx3uk-PLH"
      },
      "execution_count": null,
      "outputs": []
    },
    {
      "cell_type": "markdown",
      "source": [
        "## Create LSTM model"
      ],
      "metadata": {
        "id": "PY6TlgDW-Rwn"
      }
    },
    {
      "cell_type": "code",
      "source": [
        "from tensorflow.keras.layers import Embedding\n",
        "from tensorflow.keras import layers\n",
        "\n",
        "NUM_CLASSES = 2\n",
        "\n",
        "embedding_layer = Embedding(\n",
        "    num_tokens,\n",
        "    embedding_dim,\n",
        "    embeddings_initializer=keras.initializers.Constant(embedding_matrix),\n",
        "    trainable=False,\n",
        "    name='embeddings'\n",
        ")\n",
        "input = tf.keras.Input(shape=(None,), dtype=\"int64\", name=\"input\")\n",
        "x = embedding_layer(input)\n",
        "x = layers.LSTM(128, name=\"lstm_1\",return_sequences=True)(x)\n",
        "x = layers.LSTM(128, name=\"lstm_2\")(x)\n",
        "output = layers.Dense(NUM_CLASSES, activation=\"softmax\", name=\"dense_predictions\")(x)\n",
        "model = keras.Model(inputs=input, outputs=output, name=\"lstm_model\")\n",
        "model.summary()"
      ],
      "metadata": {
        "id": "DKifPYqw-SPm"
      },
      "execution_count": null,
      "outputs": []
    },
    {
      "cell_type": "markdown",
      "source": [
        "## Train Model"
      ],
      "metadata": {
        "id": "oO34-vti-YH3"
      }
    },
    {
      "cell_type": "code",
      "source": [
        "x_train = vectorizer(np.array([[s] for s in train_txt])).numpy()\n",
        "x_val = vectorizer(np.array([[s] for s in val_txt])).numpy()\n",
        "\n",
        "y_train = np.array(train_lbl)\n",
        "y_val = np.array(val_lbl)\n",
        "\n",
        "LEARNING_RATE = 0.01\n",
        "optimiser = keras.optimizers.Adam(learning_rate=LEARNING_RATE)\n",
        "# optimiser = keras.optimizers.SGD(learning_rate=LEARNING_RATE)\n",
        "# optimiser = keras.optimizers.RMSprop(learning_rate=LEARNING_RATE)\n",
        "model.compile(\n",
        "    loss=\"sparse_categorical_crossentropy\", optimizer=optimiser, metrics=[\"accuracy\"],\n",
        ")\n",
        "model.fit(x_train, y_train, batch_size=256, epochs=3, validation_data=(x_val, y_val))\n",
        "\n",
        "\n",
        "x_test = vectorizer(np.array([[s] for s in test_txt])).numpy()\n",
        "y_test = np.array(test_lbl)\n",
        "scores = model.evaluate(x_test, y_test, verbose=1)\n",
        "print(\"Accuracy: %.2f%%\" % (scores[1]*100))"
      ],
      "metadata": {
        "id": "GlU0Ee5J-Y3H"
      },
      "execution_count": null,
      "outputs": []
    },
    {
      "cell_type": "markdown",
      "source": [
        "## Early Stopping"
      ],
      "metadata": {
        "id": "m9nHllw2-dj-"
      }
    },
    {
      "cell_type": "code",
      "source": [
        "callback = tf.keras.callbacks.EarlyStopping(monitor='val_loss', patience=2,min_delta=0.001)\n",
        "model.fit(x_train, y_train, batch_size=64, epochs=5, validation_data=(x_val, y_val),callbacks=[callback])"
      ],
      "metadata": {
        "id": "naxIz7fZ-eQW"
      },
      "execution_count": null,
      "outputs": []
    },
    {
      "cell_type": "markdown",
      "source": [
        "## Inferencing"
      ],
      "metadata": {
        "id": "yS0Dmlbg-hpu"
      }
    },
    {
      "cell_type": "code",
      "source": [
        "string_input = keras.Input(shape=(1,), dtype=\"string\")\n",
        "x = vectorizer(string_input)\n",
        "preds = model(x)\n",
        "end_to_end_model = keras.Model(string_input, preds)\n",
        "\n",
        "probabilities = end_to_end_model.predict(\n",
        "    [[\"I like this movie\"]]\n",
        ")\n",
        "print(probabilities)\n",
        "np.argmax(probabilities[0])"
      ],
      "metadata": {
        "id": "7NZPEBpb-hDU"
      },
      "execution_count": null,
      "outputs": []
    },
    {
      "cell_type": "markdown",
      "source": [
        "# Bi-LSTM\n",
        "\n",
        "Change the above model to a Bi-LSTM model"
      ],
      "metadata": {
        "id": "_no5LNeE-mmm"
      }
    },
    {
      "cell_type": "code",
      "source": [
        "# Your code goes here"
      ],
      "metadata": {
        "id": "QuygiPxH-nIz"
      },
      "execution_count": null,
      "outputs": []
    }
  ]
}