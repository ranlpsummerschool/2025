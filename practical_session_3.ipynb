{
 "cells": [
  {
   "cell_type": "markdown",
   "id": "e51e4575",
   "metadata": {},
   "source": [
    "# RANLP 2025 Practical — Prompting & Fine‑tuning Large Language Models\n",
    "**Instructor:** Msc. Ernesto Luis Estevanell‑Valladares\n",
    "\n",
    "Welcome. Today we’ll teach language models to do two things people ask for every day: **answer questions** and **translate text**. Think of the little answer boxes you see in search, or the moment a translation unlocks a message. We’ll start small, compare simple prompting decisions, measure what we get, and then fine‑tune compact models to do better. As we go, we’ll explain ideas in plain language so the code never feels mysterious.\n",
    "\n",
    "This practical stands on its own. You’ll meet the tasks (Question Answering with **SQuAD** and English→Spanish translation with an **OPUS** subset), the models (**GPT‑2** and **T5**), and a workflow you can reuse: look at a few examples, set sensible length limits from the data, try a clear prompt with a basic decoding choice, measure quality, and then fine‑tune and compare again."
   ]
  },
  {
   "cell_type": "markdown",
   "id": "ee0412e5",
   "metadata": {},
   "source": [
    "## How we’ll work\n",
    "\n",
    "We will walk the same path twice. First on **question answering** with SQuAD, then on **translation** with OPUS. Each time we’ll skim a few examples, choose practical length limits, try a clear prompt and a basic decoding setting, measure, and then fine‑tune a small model and check the result again.\n"
   ]
  },
  {
   "cell_type": "markdown",
   "id": "99ce551e",
   "metadata": {},
   "source": [
    "### Why these architectures make sense for today’s tasks\n",
    "\n",
    "Question answering and translation both require writing text *conditioned* on something: a passage + question, or a source sentence. A decoder‑only model like GPT‑2 conditions on that information by putting it in the same sequence it continues. An encoder–decoder like T5 separates the “read” and “write” steps: the encoder builds a representation of the input, and the decoder generates while looking back at it. You’ll see this difference reflected in how we set up inputs for each model in the code that follows.\n"
   ]
  },
  {
   "cell_type": "markdown",
   "id": "3e284689",
   "metadata": {},
   "source": [
    "## The datasets\n",
    "\n",
    "**SQuAD** is a collection of questions written about Wikipedia articles, each with an answer found in the text. It’s a standard way to check whether a system can read and reply accurately to a question.\n",
    "\n",
    "**OPUS** is a large, open collection of translated sentence pairs. **OPUS‑100** is an English‑centric slice covering many languages; we’ll work with a small English→Spanish subset so runs stay fast while still feeling realistic.\n"
   ]
  },
  {
   "cell_type": "markdown",
   "id": "79069794",
   "metadata": {},
   "source": [
    "### A quick note on runtime\n",
    "\n",
    "To keep things comfortable on classroom GPUs, we’ll use small subsets. Treat absolute scores as illustrative; focus on **relative** improvements as we change prompts, decoding, and fine‑tune the models.\n"
   ]
  },
  {
   "cell_type": "markdown",
   "id": "3208c552",
   "metadata": {},
   "source": [
    "### Small helpers you’ll see in the code\n",
    "\n",
    "We use a few tiny utilities to keep the notebook readable. `human_time` prints friendly timings, `peek` shows a tidy slice of a dataset without flooding the screen, and `clear_memory` frees GPU memory when we swap models. Nothing magical—just quality‑of‑life tools.\n"
   ]
  },
  {
   "cell_type": "code",
   "execution_count": 1,
   "id": "65365549-ce44-4f5c-bc39-d853dbaf0403",
   "metadata": {},
   "outputs": [],
   "source": [
    "#%pip uninstall -q -y torch torchvision torchaudio transformers datasets evaluate sacrebleu sentencepiece accelerate trl langdetect langcodes pandas matplotlib tf-keras peft\n",
    "#%pip uninstall -q -y tensorflow keras tf-keras"
   ]
  },
  {
   "cell_type": "code",
   "execution_count": 2,
   "id": "c5cc5e63-0e43-4b3c-9814-662d31e4b438",
   "metadata": {},
   "outputs": [],
   "source": [
    "#%pip install -q torch torchaudio --index-url https://download.pytorch.org/whl/cu126\n",
    "#%pip install -q transformers datasets evaluate sacrebleu sentencepiece trl langdetect accelerate>=0.21.0 peft langcodes pandas matplotlib\n"
   ]
  },
  {
   "cell_type": "code",
   "execution_count": 3,
   "id": "1e305337",
   "metadata": {},
   "outputs": [
    {
     "data": {
      "text/plain": [
       "'cuda'"
      ]
     },
     "execution_count": 3,
     "metadata": {},
     "output_type": "execute_result"
    }
   ],
   "source": [
    "# ## Part 0 — Setup\n",
    "import os, random, math, json, time, re\n",
    "from dataclasses import dataclass\n",
    "from typing import Dict, List, Optional, Tuple\n",
    "\n",
    "import numpy as np\n",
    "import pandas as pd\n",
    "\n",
    "import torch\n",
    "from torch.utils.data import DataLoader\n",
    "\n",
    "from datasets import load_dataset, DatasetDict, Dataset\n",
    "import evaluate\n",
    "\n",
    "from transformers import (\n",
    "    AutoTokenizer,\n",
    "    AutoModelForCausalLM,\n",
    "    AutoModelForSeq2SeqLM,\n",
    "    DataCollatorForLanguageModeling,\n",
    "    DataCollatorForSeq2Seq,\n",
    "    Trainer,\n",
    "    TrainingArguments,\n",
    "    Seq2SeqTrainingArguments,\n",
    "    Seq2SeqTrainer,\n",
    "    set_seed,\n",
    ")\n",
    "\n",
    "# Visualization\n",
    "import matplotlib.pyplot as plt\n",
    "\n",
    "SEED = 42\n",
    "set_seed(SEED)\n",
    "\n",
    "device = 'cuda' if torch.cuda.is_available() else 'cpu'\n",
    "device\n"
   ]
  },
  {
   "cell_type": "code",
   "execution_count": 4,
   "id": "3f45690a",
   "metadata": {},
   "outputs": [
    {
     "name": "stdout",
     "output_type": "stream",
     "text": [
      "Helpers ready.\n"
     ]
    }
   ],
   "source": [
    "# %%\n",
    "import gc\n",
    "\n",
    "def human_time(seconds: float) -> str:\n",
    "    m, s = divmod(int(seconds), 60)\n",
    "    h, m = divmod(m, 60)\n",
    "    return f\"{h:d}h {m:02d}m {s:02d}s\"\n",
    "\n",
    "def peek(ds: Dataset, n: int = 2):\n",
    "    for i in range(n):\n",
    "        print(json.dumps(ds[i], ensure_ascii=False, indent=2))\n",
    "\n",
    "def clear_memory():\n",
    "    gc.collect()\n",
    "    if torch.cuda.is_available():\n",
    "        torch.cuda.empty_cache()\n",
    "        torch.cuda.ipc_collect()\n",
    "    \n",
    "print('Helpers ready.')"
   ]
  },
  {
   "cell_type": "markdown",
   "id": "e39e64f9",
   "metadata": {},
   "source": [
    "# Part A — Question Answering with SQuAD\n",
    "\n",
    "Our goal is to have a model read a short passage and a question, then **write the answer**. SQuAD was designed with answers that appear in the passage, but here we treat it as a tiny generation task: read the passage and question, then produce the answer text. This keeps the approach consistent across models and makes evaluation straightforward."
   ]
  },
  {
   "cell_type": "code",
   "execution_count": 5,
   "id": "1415cb27",
   "metadata": {},
   "outputs": [],
   "source": [
    "# %%\n",
    "squad = load_dataset('squad')\n",
    "squad\n",
    "\n",
    "squad_train = squad['train'].shuffle()\n",
    "squad_validation = squad['validation'].shuffle()"
   ]
  },
  {
   "cell_type": "markdown",
   "id": "70f86e8f",
   "metadata": {},
   "source": [
    "Take a minute to skim a few SQuAD items. Notice where the answer lives in the passage and how long answers tend to be. Also watch for near‑miss phrases that could fool a word‑matching system. Make a quick guess for a safe upper bound on answer length—we’ll verify it next."
   ]
  },
  {
   "cell_type": "code",
   "execution_count": 6,
   "id": "640dda51",
   "metadata": {},
   "outputs": [
    {
     "name": "stdout",
     "output_type": "stream",
     "text": [
      "{\n",
      "  \"id\": \"573173d8497a881900248f0c\",\n",
      "  \"title\": \"Egypt\",\n",
      "  \"context\": \"The Pew Forum on Religion & Public Life ranks Egypt as the fifth worst country in the world for religious freedom. The United States Commission on International Religious Freedom, a bipartisan independent agency of the US government, has placed Egypt on its watch list of countries that require close monitoring due to the nature and extent of violations of religious freedom engaged in or tolerated by the government. According to a 2010 Pew Global Attitudes survey, 84% of Egyptians polled supported the death penalty for those who leave Islam; 77% supported whippings and cutting off of hands for theft and robbery; and 82% support stoning a person who commits adultery.\",\n",
      "  \"question\": \"What percentage of Egyptians polled support death penalty for those leaving Islam?\",\n",
      "  \"answers\": {\n",
      "    \"text\": [\n",
      "      \"84%\"\n",
      "    ],\n",
      "    \"answer_start\": [\n",
      "      468\n",
      "    ]\n",
      "  }\n",
      "}\n",
      "{\n",
      "  \"id\": \"57277e815951b619008f8b52\",\n",
      "  \"title\": \"Ann_Arbor,_Michigan\",\n",
      "  \"context\": \"The Ann Arbor Hands-On Museum is located in a renovated and expanded historic downtown fire station. Multiple art galleries exist in the city, notably in the downtown area and around the University of Michigan campus. Aside from a large restaurant scene in the Main Street, South State Street, and South University Avenue areas, Ann Arbor ranks first among U.S. cities in the number of booksellers and books sold per capita. The Ann Arbor District Library maintains four branch outlets in addition to its main downtown building. The city is also home to the Gerald R. Ford Presidential Library.\",\n",
      "  \"question\": \"Ann Arbor ranks 1st among what goods sold?\",\n",
      "  \"answers\": {\n",
      "    \"text\": [\n",
      "      \"books\"\n",
      "    ],\n",
      "    \"answer_start\": [\n",
      "      402\n",
      "    ]\n",
      "  }\n",
      "}\n",
      "{\n",
      "  \"id\": \"572fc78d04bcaa1900d76d0a\",\n",
      "  \"title\": \"Scottish_Parliament\",\n",
      "  \"context\": \"Committees comprise a small number of MSPs, with membership reflecting the balance of parties across Parliament. There are different committees with their functions set out in different ways. Mandatory Committees are committees which are set down under the Scottish Parliament's standing orders, which govern their remits and proceedings. The current Mandatory Committees in the fourth Session of the Scottish Parliament are: Public Audit; Equal Opportunities; European and External Relations; Finance; Public Petitions; Standards, Procedures and Public Appointments; and Delegated Powers and Law Reform.\",\n",
      "  \"question\": \"What type of committee is set down under the SP's standing orders?\",\n",
      "  \"answers\": {\n",
      "    \"text\": [\n",
      "      \"Mandatory\",\n",
      "      \"Mandatory\",\n",
      "      \"Mandatory Committees\"\n",
      "    ],\n",
      "    \"answer_start\": [\n",
      "      192,\n",
      "      192,\n",
      "      192\n",
      "    ]\n",
      "  }\n",
      "}\n",
      "{\n",
      "  \"id\": \"572ffd75b2c2fd14005686e8\",\n",
      "  \"title\": \"Rhine\",\n",
      "  \"context\": \"The last glacial ran from ~74,000 (BP = Before Present), until the end of the Pleistocene (~11,600 BP). In northwest Europe, it saw two very cold phases, peaking around 70,000 BP and around 29,000–24,000 BP. The last phase slightly predates the global last ice age maximum (Last Glacial Maximum). During this time, the lower Rhine flowed roughly west through the Netherlands and extended to the southwest, through the English Channel and finally, to the Atlantic Ocean. The English Channel, the Irish Channel and most of the North Sea were dry land, mainly because sea level was approximately 120 m (390 ft) lower than today.\",\n",
      "  \"question\": \"How much lower was the North Sea in the last cold phase than it is today?\",\n",
      "  \"answers\": {\n",
      "    \"text\": [\n",
      "      \"120 m\",\n",
      "      \"120 m\",\n",
      "      \"120 m\"\n",
      "    ],\n",
      "    \"answer_start\": [\n",
      "      593,\n",
      "      593,\n",
      "      593\n",
      "    ]\n",
      "  }\n",
      "}\n"
     ]
    }
   ],
   "source": [
    "# %%\n",
    "peek(squad_train)\n",
    "peek(squad_validation)\n"
   ]
  },
  {
   "cell_type": "markdown",
   "id": "3ce4c366",
   "metadata": {},
   "source": [
    "Before generating anything, we’ll look at tokenized length distributions for inputs and answers. Choosing caps around the upper part of the distribution (roughly the 90th–95th percentile) strikes a balance: long enough not to cut off real answers, short enough to keep memory and runtime predictable. If answers get truncated, scores will sink even when the model “knows” the right span—so this step matters."
   ]
  },
  {
   "cell_type": "code",
   "execution_count": 7,
   "id": "5f0bf86e",
   "metadata": {},
   "outputs": [
    {
     "name": "stdout",
     "output_type": "stream",
     "text": [
      "\n",
      "T5 — source lengths percentiles: {50: 180, 75: 227, 90: 289, 95: 333, 99: 431}\n",
      "T5 — target lengths percentiles: {50: 4, 75: 7, 90: 11, 95: 16, 99: 28}\n",
      "\n",
      "GPT-2 — source lengths percentiles: {50: 162, 75: 204, 90: 258, 95: 296, 99: 388}\n",
      "GPT-2 — target lengths percentiles: {50: 3, 75: 5, 90: 9, 95: 13, 99: 25}\n"
     ]
    },
    {
     "data": {
      "image/png": "[encoded data removed]",
      "text/plain": [
       "<Figure size 640x480 with 1 Axes>"
      ]
     },
     "metadata": {},
     "output_type": "display_data"
    },
    {
     "data": {
      "image/png": "[encoded data removed]",
      "text/plain": [
       "<Figure size 640x480 with 1 Axes>"
      ]
     },
     "metadata": {},
     "output_type": "display_data"
    }
   ],
   "source": [
    "# %%\n",
    "# Choose tokenizers\n",
    "t5_name = 't5-base'              # good for text-to-text demos\n",
    "gpt2_name = 'gpt2-medium'                # medium GPT-2\n",
    "\n",
    "t5_tok = AutoTokenizer.from_pretrained(t5_name)\n",
    "gpt2_tok = AutoTokenizer.from_pretrained(gpt2_name)\n",
    "\n",
    "def qa_lengths(ds: Dataset, tokenizer, max_rows: int = 5000):\n",
    "    rows = min(len(ds), max_rows)\n",
    "    src_lens, tgt_lens = [], []\n",
    "    for i in range(rows):\n",
    "        ex = ds[i]\n",
    "        src_text = f\"question: {ex['question'].strip()}  context: {ex['context'].strip()}\"\n",
    "        tgt_text = ex['answers']['text'][0] if len(ex['answers']['text']) else ''\n",
    "        src_lens.append(len(tokenizer(src_text).input_ids))\n",
    "        tgt_lens.append(len(tokenizer(tgt_text).input_ids))\n",
    "    return np.array(src_lens), np.array(tgt_lens)\n",
    "\n",
    "src_lens_t5, tgt_lens_t5 = qa_lengths(squad_train, t5_tok, max_rows=20000)\n",
    "src_lens_g2, tgt_lens_g2 = qa_lengths(squad_train, gpt2_tok, max_rows=20000)\n",
    "\n",
    "def summarize_lens(name, src, tgt):\n",
    "    def pct(a): \n",
    "        return {p:int(np.percentile(a,p)) for p in [50,75,90,95,99]}\n",
    "    print(f\"\\n{name} — source lengths percentiles:\", pct(src))\n",
    "    print(f\"{name} — target lengths percentiles:\", pct(tgt))\n",
    "\n",
    "summarize_lens('T5', src_lens_t5, tgt_lens_t5)\n",
    "summarize_lens('GPT-2', src_lens_g2, tgt_lens_g2)\n",
    "\n",
    "# Plot (optional)\n",
    "plt.figure()\n",
    "plt.hist(src_lens_t5, bins=50)\n",
    "plt.title('T5 tokenized source length (question+context)')\n",
    "plt.xlabel('tokens'); plt.ylabel('count')\n",
    "plt.show()\n",
    "\n",
    "plt.figure()\n",
    "plt.hist(tgt_lens_t5, bins=50)\n",
    "plt.title('T5 tokenized target length (answer)')\n",
    "plt.xlabel('tokens'); plt.ylabel('count')\n",
    "plt.show()\n"
   ]
  },
  {
   "cell_type": "code",
   "execution_count": 8,
   "id": "5ecb1f69",
   "metadata": {},
   "outputs": [
    {
     "name": "stdout",
     "output_type": "stream",
     "text": [
      "MAX_SOURCE_QA = 512\n",
      "MAX_TARGET_QA = 32\n"
     ]
    }
   ],
   "source": [
    "# %%\n",
    "# Based on the printed percentiles above, set conservative defaults.\n",
    "# If you have a smaller GPU, reduce these (e.g., source 384).\n",
    "\n",
    "MAX_SOURCE_QA = 512    # Source (question+context) tokens\n",
    "MAX_TARGET_QA = 32     # Answers in SQuAD are short; 32 tokens is typically ample\n",
    "\n",
    "print('MAX_SOURCE_QA =', MAX_SOURCE_QA)\n",
    "print('MAX_TARGET_QA =', MAX_TARGET_QA)\n"
   ]
  },
  {
   "cell_type": "markdown",
   "id": "b9f670b8",
   "metadata": {},
   "source": [
    "We’ll work with a modest SQuAD subset so everything runs smoothly on shared hardware. That’s perfect for learning the workflow and comparing strategies. Treat absolute numbers as illustrative; the *direction* of change is the lesson."
   ]
  },
  {
   "cell_type": "code",
   "execution_count": 9,
   "id": "741f615f",
   "metadata": {},
   "outputs": [],
   "source": [
    "qa_train = squad_train.select(range(10000))\n",
    "qa_validation = squad_train.select(range(10000, 11000))\n",
    "qa_test = squad_validation.select(range(2000))\n",
    "\n",
    "# cleaning unused data\n",
    "del squad\n",
    "del squad_train\n",
    "del squad_validation\n",
    "clear_memory()"
   ]
  },
  {
   "cell_type": "markdown",
   "id": "53057ed8",
   "metadata": {},
   "source": [
    "**What the next helpers do.** These wrappers run generation over a batch of prompts with safe defaults. One is written for encoder–decoder models like T5; the other is for decoder‑only models like GPT‑2. Both enforce our length limits and make it easy to switch between greedy decoding and a small beam without touching the lower‑level details."
   ]
  },
  {
   "cell_type": "code",
   "execution_count": 10,
   "id": "dcc36ec2",
   "metadata": {},
   "outputs": [],
   "source": [
    "import tqdm\n",
    "\n",
    "@torch.no_grad()\n",
    "def seq2seq_inference(model, tokenizer, prompts, batch_size=32, max_length=512, max_new_tokens=64):\n",
    "    \"\"\"\n",
    "    Sequence-to-sequence inference function for encoder-decoder models.\n",
    "    \"\"\"\n",
    "    model.eval()\n",
    "    model.config.use_cache = True\n",
    "    device = next(model.parameters()).device\n",
    "    preds = []\n",
    "\n",
    "    for i in tqdm.tqdm(range(0, len(prompts), batch_size)):\n",
    "        batch = prompts[i:i+batch_size]\n",
    "        enc = tokenizer(batch, return_tensors='pt', padding=True, truncation=True,\n",
    "                        pad_to_multiple_of=8, max_length=max_length).to(device)\n",
    "        \n",
    "        with torch.inference_mode():\n",
    "            out = model.generate(\n",
    "                **enc,\n",
    "                max_new_tokens=max_new_tokens,\n",
    "                do_sample=False,\n",
    "                use_cache=True,\n",
    "                eos_token_id=tokenizer.eos_token_id,\n",
    "                pad_token_id=tokenizer.pad_token_id or tokenizer.eos_token_id,\n",
    "                return_dict_in_generate=False\n",
    "            )\n",
    "        preds.extend(tokenizer.batch_decode(out, skip_special_tokens=True))\n",
    "    return preds\n",
    "\n",
    "@torch.no_grad()\n",
    "def clm_inference(model, tokenizer, prompts, batch_size=32, max_length=512, max_new_tokens=64):\n",
    "    \"\"\"\n",
    "    Inference function for decoder-only models (causal language models).\n",
    "    \"\"\"\n",
    "    model.eval()\n",
    "    model.config.use_cache = True           # KV cache\n",
    "    tokenizer.pad_token = tokenizer.eos_token\n",
    "    tokenizer.padding_side = \"left\"         # best for decoder-only generation\n",
    "    device = next(model.parameters()).device\n",
    "    preds = []\n",
    "\n",
    "    for i in tqdm.tqdm(range(0, len(prompts), batch_size)):\n",
    "        batch = prompts[i:i+batch_size]\n",
    "        enc = tokenizer(\n",
    "            batch, return_tensors=\"pt\",\n",
    "            padding=True, pad_to_multiple_of=8,   # tensor-core friendly\n",
    "            truncation=True, max_length=max_length\n",
    "        ).to(device)\n",
    "\n",
    "        with torch.inference_mode():\n",
    "            out = model.generate(\n",
    "                **enc,\n",
    "                max_new_tokens=max_new_tokens,\n",
    "                do_sample=False,\n",
    "                use_cache=True,\n",
    "                eos_token_id=tokenizer.eos_token_id,\n",
    "                pad_token_id=tokenizer.pad_token_id or tokenizer.eos_token_id,\n",
    "                return_dict_in_generate=False\n",
    "            )\n",
    "\n",
    "        # slice off the prompt to keep only newly generated tokens\n",
    "        gen_only = out[:, enc[\"input_ids\"].shape[1]:]\n",
    "        texts = tokenizer.batch_decode(gen_only, skip_special_tokens=True)\n",
    "        preds.extend([t.strip() for t in texts])\n",
    "    return preds"
   ]
  },
  {
   "cell_type": "markdown",
   "id": "a4b661e2",
   "metadata": {},
   "source": [
    "Once the tokenizer do its job, we can read the outputs of the models and check their answers!"
   ]
  },
  {
   "cell_type": "markdown",
   "id": "d15ee99c",
   "metadata": {},
   "source": [
    "When we decode model outputs back to text, we strip any echoed prompt and keep only the answer. The evaluation scripts compare clean strings, so keeping outputs tidy is worth the small effort."
   ]
  },
  {
   "cell_type": "code",
   "execution_count": 11,
   "id": "c76ac36e",
   "metadata": {},
   "outputs": [
    {
     "name": "stderr",
     "output_type": "stream",
     "text": [
      "100%|██████████| 1/1 [00:00<00:00,  1.91it/s]\n"
     ]
    },
    {
     "data": {
      "text/plain": [
       "'Paris'"
      ]
     },
     "execution_count": 11,
     "metadata": {},
     "output_type": "execute_result"
    }
   ],
   "source": [
    "t5 = AutoModelForSeq2SeqLM.from_pretrained(t5_name).to(device)\n",
    "answers = seq2seq_inference(t5, t5_tok, [\"question: What was the capital of France in 1950?  context: France is a country in Europe.\"])\n",
    "answers[0]"
   ]
  },
  {
   "cell_type": "code",
   "execution_count": 12,
   "id": "e4645ae0",
   "metadata": {},
   "outputs": [],
   "source": [
    "\n",
    "# we should clean the memory after we finished using the model\n",
    "del t5\n",
    "clear_memory()"
   ]
  },
  {
   "cell_type": "markdown",
   "id": "1ad9518c",
   "metadata": {},
   "source": [
    "For the SQUAD dataset, we will be meassuring performance using two metrics:\n",
    "\n",
    "**Exact Match (EM)** - This strict metric assigns a score of 1 if the model’s prediction matches one of the ground-truth answers exactly after normalising case and punctuation, and 0 otherwise. Even a single character difference leads to a score of 0.\n",
    "\n",
    "**F1 Score** - This is the harmonic mean of precision and recall over the tokens in the predicted and reference answers. F1 rewards partial overlap; it ranges from 0 (no overlap) to 1 (perfect match).\n",
    "\n",
    "*Example.* Suppose the reference answers are `[\"water\", \"water bodies\"]` and the model predicts `\"water\"`. The prediction matches one reference exactly, so EM = 1. Token overlap with \"water bodies\" yields precision = 1/1 and recall = 1/2, giving F1 = 2×(1/1×1/2)/(1/1+1/2)=0.67."
   ]
  },
  {
   "cell_type": "markdown",
   "id": "27c7acad",
   "metadata": {},
   "source": [
    "We’ll use the SQuAD scorer provided through the `evaluate` library. It implements the canonical script used in the literature, including the usual text normalization, so our numbers are comparable and sensible out of the box.\n",
    "\n",
    "Note: We only take the first answer as the expected answer for simplicity. Some answer lists are repeated, but in reality, there might be more than a possible answer for a question. "
   ]
  },
  {
   "cell_type": "code",
   "execution_count": 13,
   "id": "ea3ec06a",
   "metadata": {},
   "outputs": [],
   "source": [
    "squad_metric = evaluate.load('squad')\n",
    "def evaluate_qa(predictions, references):\n",
    "    \"\"\"Format predictions and references for the SQuAD metric.\n",
    "\n",
    "    Supports references provided as:\n",
    "    - list of strings (multiple gold answers)\n",
    "    - dict with keys 'text' and 'answer_start'\n",
    "    - dict with key 'answers' containing the above\n",
    "    - single string\n",
    "    \"\"\"\n",
    "    formatted_preds = [{\"id\": str(i), \"prediction_text\": p} for i, p in enumerate(predictions)]\n",
    "    formatted_refs = []\n",
    "    for i, ref in enumerate(references):\n",
    "        if isinstance(ref, dict) and \"answers\" in ref:\n",
    "            answers = ref[\"answers\"]\n",
    "        elif isinstance(ref, dict) and (\"text\" in ref and \"answer_start\" in ref):\n",
    "            answers = ref\n",
    "        elif isinstance(ref, str):\n",
    "            answers = {\"text\": [ref], \"answer_start\": [0]}\n",
    "        else:\n",
    "            # assume iterable of strings\n",
    "            texts = list(ref)\n",
    "            answers = {\"text\": texts, \"answer_start\": [0] * len(texts)}\n",
    "            \n",
    "        formatted_refs.append({\"id\": str(i), \"answers\": answers})\n",
    "    return squad_metric.compute(predictions=formatted_preds, references=formatted_refs)"
   ]
  },
  {
   "cell_type": "markdown",
   "id": "064f5e38",
   "metadata": {},
   "source": [
    "### Exercise: Let's try QA prompting!\n",
    "\n",
    "Now that we can generate answers and evaluate them, let’s try a couple of prompt wordings and decoding settings. Keep the format stable and change just one thing at a time so differences are meaningful.\n",
    "\n",
    "Add at least one new entry to the `qa_prompt_strategies` dictionary. We challenge you to beat the *minimal* strategy!"
   ]
  },
  {
   "cell_type": "code",
   "execution_count": 14,
   "id": "80480c74",
   "metadata": {},
   "outputs": [],
   "source": [
    "qa_prompt_strategies = {\n",
    "    'minimal': lambda question, context: f\"question: {question} context: {context} answer:\",\n",
    "    'instruction': lambda question, context: f'Given the context:\\n\\n\"{context}\"\\n\\nAnswer the following question:\\n\\n\"{question}\"\\nAnswer:',\n",
    "    # Add your own strategies here.\n",
    "}\n",
    "\n",
    "def apply_qa_prompt_strategy(strategy_name, dataset) -> Tuple[List[str], List[str]]:\n",
    "    \"\"\"\n",
    "    Apply the specified prompt strategy to the dataset.\n",
    "\n",
    "    Returns:\n",
    "        A tuple containing the list of prompts and the list of reference answers.\n",
    "    \"\"\"\n",
    "    if strategy_name in qa_prompt_strategies:\n",
    "        prompt_func = qa_prompt_strategies[strategy_name]\n",
    "        prompts = [prompt_func(sample['question'], sample['context']) for sample in dataset]\n",
    "        references = [sample['answers']['text'] for sample in dataset]\n",
    "        return prompts, references\n",
    "    else:\n",
    "        raise ValueError(f\"Unknown prompt strategy: {strategy_name}\")"
   ]
  },
  {
   "cell_type": "markdown",
   "id": "38f7466b",
   "metadata": {},
   "source": [
    "You can test visually some answers with the cell below"
   ]
  },
  {
   "cell_type": "code",
   "execution_count": 15,
   "id": "fe6a6f05",
   "metadata": {
    "scrolled": true
   },
   "outputs": [
    {
     "name": "stdout",
     "output_type": "stream",
     "text": [
      "== strategy 'minimal' with T5 ==\n"
     ]
    },
    {
     "name": "stderr",
     "output_type": "stream",
     "text": [
      "100%|██████████| 1/1 [00:00<00:00, 14.25it/s]"
     ]
    },
    {
     "name": "stdout",
     "output_type": "stream",
     "text": [
      "Prompt: 'question: Along with anxiety, what is an example of directionless emotion? context: The word \"emotion\" dates back to 1579, when it was adapted from the French word émouvoir, which means \"to stir up\". The term emotion was introduced into academic discussion to replace passion. According to one dictionary, the earliest precursors of the word likely dates back to the very origins of language. The modern word emotion is heterogeneous In some uses of the word, emotions are intense feelings that are directed at someone or something. On the other hand, emotion can be used to refer to states that are mild (as in annoyed or content) and to states that are not directed at anything (as in anxiety and depression). One line of research thus looks at the meaning of the word emotion in everyday language and this usage is rather different from that in academic discourse. Another line of research asks about languages other than English, and one interesting finding is that many languages have a similar but not identical term answer:'\n",
      "Prediction: 'depression'\n",
      "Reference: '['depression']'\n",
      "Prompt: 'question: Who became the top PC manufacturer in 1994, leaving Apple in 3rd place? context: The Macintosh, however, was expensive, which hindered its ability to be competitive in a market already dominated by the Commodore 64 for consumers, as well as the IBM Personal Computer and its accompanying clone market for businesses. Macintosh systems still found success in education and desktop publishing and kept Apple as the second-largest PC manufacturer for the next decade. In the 1990s, improvements in the rival Wintel platform, notably with the introduction of Windows 3.0, then Windows 95, gradually took market share from the more expensive Macintosh systems. The performance advantage of 68000-based Macintosh systems was eroded by Intel's Pentium, and in 1994 Apple was relegated to third place as Compaq became the top PC manufacturer. Even after a transition to the superior PowerPC-based Power Macintosh (later renamed the PowerMac, in line with the PowerBook series) line in 1994, the falling prices of commodity PC components and the release of Windows 95 saw the Macintosh user base decline. answer:'\n",
      "Prediction: 'Compaq'\n",
      "Reference: '['Compaq']'\n",
      "-> EM: 100.0 F1: 100.0\n",
      "\n"
     ]
    },
    {
     "name": "stderr",
     "output_type": "stream",
     "text": [
      "\n"
     ]
    },
    {
     "name": "stdout",
     "output_type": "stream",
     "text": [
      "== strategy 'minimal' with GPT-2 ==\n"
     ]
    },
    {
     "name": "stderr",
     "output_type": "stream",
     "text": [
      "100%|██████████| 1/1 [00:01<00:00,  1.08s/it]"
     ]
    },
    {
     "name": "stdout",
     "output_type": "stream",
     "text": [
      "Prompt: 'question: Along with anxiety, what is an example of directionless emotion? context: The word \"emotion\" dates back to 1579, when it was adapted from the French word émouvoir, which means \"to stir up\". The term emotion was introduced into academic discussion to replace passion. According to one dictionary, the earliest precursors of the word likely dates back to the very origins of language. The modern word emotion is heterogeneous In some uses of the word, emotions are intense feelings that are directed at someone or something. On the other hand, emotion can be used to refer to states that are mild (as in annoyed or content) and to states that are not directed at anything (as in anxiety and depression). One line of research thus looks at the meaning of the word emotion in everyday language and this usage is rather different from that in academic discourse. Another line of research asks about languages other than English, and one interesting finding is that many languages have a similar but not identical term answer:'\n",
      "Prediction: '\"emotion\" is used in many languages to refer to a state of mind, but it is not used to refer to a state of mind. For example, in the language of the United States, the word \"emotion\" is used to refer to a state of mind, but it is not used to refer'\n",
      "Reference: '['depression']'\n",
      "Prompt: 'question: Who became the top PC manufacturer in 1994, leaving Apple in 3rd place? context: The Macintosh, however, was expensive, which hindered its ability to be competitive in a market already dominated by the Commodore 64 for consumers, as well as the IBM Personal Computer and its accompanying clone market for businesses. Macintosh systems still found success in education and desktop publishing and kept Apple as the second-largest PC manufacturer for the next decade. In the 1990s, improvements in the rival Wintel platform, notably with the introduction of Windows 3.0, then Windows 95, gradually took market share from the more expensive Macintosh systems. The performance advantage of 68000-based Macintosh systems was eroded by Intel's Pentium, and in 1994 Apple was relegated to third place as Compaq became the top PC manufacturer. Even after a transition to the superior PowerPC-based Power Macintosh (later renamed the PowerMac, in line with the PowerBook series) line in 1994, the falling prices of commodity PC components and the release of Windows 95 saw the Macintosh user base decline. answer:'\n",
      "Prediction: 'Apple's performance advantage over the competition was eroded by the introduction of Windows 95, which was a major upgrade to the operating system. The introduction of Windows 95 also saw the introduction of the Macintosh's first 64-bit processor, the PowerPC G4, which was a significant upgrade over the G3. The introduction of'\n",
      "Reference: '['Compaq']'\n",
      "-> EM: 0.0 F1: 0.0\n",
      "\n"
     ]
    },
    {
     "name": "stderr",
     "output_type": "stream",
     "text": [
      "\n"
     ]
    }
   ],
   "source": [
    "dataset = qa_validation.select(range(2))\n",
    "\n",
    "STRATEGY = \"minimal\"\n",
    "\n",
    "# Uncomment to test t5\n",
    "t5 = AutoModelForSeq2SeqLM.from_pretrained(t5_name).to(device)\n",
    "t5_tok = AutoTokenizer.from_pretrained(t5_name)\n",
    "\n",
    "print(f\"== strategy '{STRATEGY}' with T5 ==\")\n",
    "prompts, references = apply_qa_prompt_strategy(STRATEGY, dataset)\n",
    "predictions = seq2seq_inference(t5, t5_tok, prompts)\n",
    "\n",
    "for prompt, prediction, reference in zip(prompts, predictions, references):\n",
    "    print(f\"Prompt: '{prompt}'\")\n",
    "    print(f\"Prediction: '{prediction}'\")\n",
    "    print(f\"Reference: '{reference}'\",)\n",
    "\n",
    "scores = evaluate_qa(predictions, references)\n",
    "print(f\"-> EM: {scores['exact_match']} F1: {scores['f1']}\", end='\\n\\n')\n",
    "\n",
    "del t5, t5_tok\n",
    "clear_memory()\n",
    "\n",
    "# Uncomment to test GPT-2\n",
    "gpt2 = AutoModelForCausalLM.from_pretrained(gpt2_name).to(device)\n",
    "gpt2_tok = AutoTokenizer.from_pretrained(gpt2_name)\n",
    "\n",
    "print(f\"== strategy '{STRATEGY}' with GPT-2 ==\")\n",
    "prompts, references = apply_qa_prompt_strategy(STRATEGY, dataset)\n",
    "predictions = clm_inference(gpt2, gpt2_tok, prompts)\n",
    "\n",
    "for prompt, prediction, reference in zip(prompts, predictions, references):\n",
    "    print(f\"Prompt: '{prompt}'\")\n",
    "    print(f\"Prediction: '{prediction}'\")\n",
    "    print(f\"Reference: '{reference}'\")\n",
    "\n",
    "scores = evaluate_qa(predictions, references)\n",
    "print(f\"-> EM: {scores['exact_match']} F1: {scores['f1']}\", end='\\n\\n')"
   ]
  },
  {
   "cell_type": "markdown",
   "id": "ca6e6e45",
   "metadata": {},
   "source": [
    "Add your strategy, then run the cell below to evaluate all defined strategies on the validation set. Skim a few outputs to see what the model is doing—do names and numbers survive the trip into the target language?"
   ]
  },
  {
   "cell_type": "code",
   "execution_count": 16,
   "id": "aea9473c",
   "metadata": {},
   "outputs": [
    {
     "name": "stdout",
     "output_type": "stream",
     "text": [
      "=   Evaluating T5   =\n",
      "== strategy 'minimal' ==\n"
     ]
    },
    {
     "name": "stderr",
     "output_type": "stream",
     "text": [
      "100%|██████████| 16/16 [00:07<00:00,  2.26it/s]\n"
     ]
    },
    {
     "name": "stdout",
     "output_type": "stream",
     "text": [
      "-> EM: 57.3 F1: 63.72726161519638\n",
      "\n",
      "== strategy 'instruction' ==\n"
     ]
    },
    {
     "name": "stderr",
     "output_type": "stream",
     "text": [
      "100%|██████████| 16/16 [00:07<00:00,  2.14it/s]\n"
     ]
    },
    {
     "name": "stdout",
     "output_type": "stream",
     "text": [
      "-> EM: 0.2 F1: 0.2168929110105581\n",
      "\n",
      "\n",
      "=   Evaluating GPT-2   =\n",
      "== strategy 'minimal' ==\n"
     ]
    },
    {
     "name": "stderr",
     "output_type": "stream",
     "text": [
      "100%|██████████| 16/16 [00:37<00:00,  2.34s/it]\n"
     ]
    },
    {
     "name": "stdout",
     "output_type": "stream",
     "text": [
      "-> EM: 0.0 F1: 5.165764101120821\n",
      "\n",
      "== strategy 'instruction' ==\n"
     ]
    },
    {
     "name": "stderr",
     "output_type": "stream",
     "text": [
      "100%|██████████| 16/16 [00:38<00:00,  2.41s/it]\n"
     ]
    },
    {
     "name": "stdout",
     "output_type": "stream",
     "text": [
      "-> EM: 0.0 F1: 6.418160333476867\n",
      "\n"
     ]
    }
   ],
   "source": [
    "dataset = qa_validation\n",
    "\n",
    "print(\"=   Evaluating T5   =\")\n",
    "t5 = AutoModelForSeq2SeqLM.from_pretrained(t5_name).to(device)\n",
    "t5_tok = AutoTokenizer.from_pretrained(t5_name)\n",
    "for strategy_name in qa_prompt_strategies.keys():\n",
    "    print(f\"== strategy '{strategy_name}' ==\")\n",
    "    prompts, references = apply_qa_prompt_strategy(strategy_name, dataset)\n",
    "    predictions = seq2seq_inference(t5, t5_tok, prompts, batch_size=64)\n",
    "    scores = evaluate_qa(predictions, references)\n",
    "    print(f\"-> EM: {scores['exact_match']} F1: {scores['f1']}\", end='\\n\\n')\n",
    "\n",
    "del t5\n",
    "clear_memory()\n",
    "\n",
    "print(\"\\n=   Evaluating GPT-2   =\")\n",
    "gpt2 = AutoModelForCausalLM.from_pretrained(gpt2_name).to(device)\n",
    "gpt2_tok = AutoTokenizer.from_pretrained(gpt2_name)\n",
    "for strategy_name in qa_prompt_strategies.keys():\n",
    "    print(f\"== strategy '{strategy_name}' ==\")\n",
    "    prompts, references = apply_qa_prompt_strategy(strategy_name, dataset)\n",
    "    predictions = clm_inference(gpt2, gpt2_tok, prompts, batch_size=64)\n",
    "    scores = evaluate_qa(predictions, references)\n",
    "    print(f\"-> EM: {scores['exact_match']} F1: {scores['f1']}\", end='\\n\\n')\n",
    "\n",
    "del gpt2\n",
    "clear_memory()"
   ]
  },
  {
   "cell_type": "markdown",
   "id": "42af7271",
   "metadata": {},
   "source": [
    "Pick your best strategy and run it on the **test split**. Keep the prompt text handy—we’ll reuse the same format after fine‑tuning so our comparison stays fair."
   ]
  },
  {
   "cell_type": "code",
   "execution_count": 18,
   "id": "bb3a3282",
   "metadata": {},
   "outputs": [
    {
     "name": "stdout",
     "output_type": "stream",
     "text": [
      "=   Evaluating T5 with strategy minimal on Test! =\n"
     ]
    },
    {
     "name": "stderr",
     "output_type": "stream",
     "text": [
      "100%|██████████| 32/32 [00:14<00:00,  2.14it/s]\n"
     ]
    },
    {
     "name": "stdout",
     "output_type": "stream",
     "text": [
      "-> EM: 59.4 F1: 63.12455129894259\n",
      "\n",
      "=   Evaluating GPT-2 with strategy minimal on Test! =\n"
     ]
    },
    {
     "name": "stderr",
     "output_type": "stream",
     "text": [
      "100%|██████████| 32/32 [01:23<00:00,  2.59s/it]\n"
     ]
    },
    {
     "name": "stdout",
     "output_type": "stream",
     "text": [
      "-> EM: 0.0 F1: 5.70529276410452\n",
      "\n"
     ]
    }
   ],
   "source": [
    "dataset = qa_test\n",
    "BEST_STRATEGY = 'minimal'\n",
    "\n",
    "print(f\"=   Evaluating T5 with strategy {BEST_STRATEGY} on Test! =\")\n",
    "t5 = AutoModelForSeq2SeqLM.from_pretrained(t5_name).to(device)\n",
    "t5_tok = AutoTokenizer.from_pretrained(t5_name)\n",
    "prompts, references = apply_qa_prompt_strategy(BEST_STRATEGY, dataset)\n",
    "predictions = seq2seq_inference(t5, t5_tok, prompts, batch_size=64)\n",
    "scores = evaluate_qa(predictions, references)\n",
    "print(f\"-> EM: {scores['exact_match']} F1: {scores['f1']}\", end='\\n\\n')\n",
    "\n",
    "del t5\n",
    "clear_memory()\n",
    "\n",
    "print(f\"=   Evaluating GPT-2 with strategy {BEST_STRATEGY} on Test! =\")\n",
    "gpt2 = AutoModelForCausalLM.from_pretrained(gpt2_name).to(device)\n",
    "gpt2_tok = AutoTokenizer.from_pretrained(gpt2_name)\n",
    "prompts, references = apply_qa_prompt_strategy(BEST_STRATEGY, dataset)\n",
    "predictions = clm_inference(gpt2, gpt2_tok, prompts, batch_size=64)\n",
    "scores = evaluate_qa(predictions, references)\n",
    "print(f\"-> EM: {scores['exact_match']} F1: {scores['f1']}\", end='\\n\\n')\n",
    "\n",
    "del gpt2\n",
    "clear_memory()"
   ]
  },
  {
   "cell_type": "markdown",
   "id": "61bc085d",
   "metadata": {},
   "source": [
    "It is not a coincidence that minimal got a good performance for **T5** out of the box. The **T5** model was trained on many instructions and NLP tasks, like Question Answering (although not specifically in SQUAD). It seems this prompting strategy is very much present in its base training. \n",
    "\n",
    "Short, well‑labeled prompts often work nicely with encoder–decoder models like **T5**, which read the input fully and write a concise output. Decoder‑only models can also do well here, but they often benefit more from a short, targeted fine‑tuning step on the task."
   ]
  },
  {
   "cell_type": "markdown",
   "id": "0dfd8063",
   "metadata": {},
   "source": [
    "### Fine-tuning GPT-2\n",
    "\n",
    "Fine-tuning an LLM is the process of teaching it on an specific task. This is usually done for preparing an LLM to perform well on a downstream task. The process is very much alike the one for pretraining them, albeit with a much smaller dataset. This means that the model is going to get biased to the specific task, and many times we will see its performance decreasing on other tasks. This phenomenon is called Catastrofic Forgetting, and still have no known cure. We will discuss this a bit more later in the session.\n"
   ]
  },
  {
   "cell_type": "markdown",
   "id": "b1326507",
   "metadata": {},
   "source": [
    "Fine‑tuning means taking a general model and nudging it toward our task with labeled examples. We keep the same prompt style—context and question followed by “Answer:” —and train the model so that the part it learns to write is just the answer text. This focuses learning on what matters and keeps inference simple."
   ]
  },
  {
   "cell_type": "code",
   "execution_count": 19,
   "id": "d9739311",
   "metadata": {},
   "outputs": [],
   "source": [
    "from trl import SFTTrainer, SFTConfig"
   ]
  },
  {
   "cell_type": "markdown",
   "id": "4593e39c",
   "metadata": {},
   "source": [
    "To fine‑tune GPT‑2, we first prepare the tokenizer and preprocess the data properly. We build prompt‑answer pairs and set the tokenizer to pad on the right. This ensures the model sees the prompt and answer in the correct order and that batches align neatly."
   ]
  },
  {
   "cell_type": "code",
   "execution_count": 20,
   "id": "c6d8655c",
   "metadata": {},
   "outputs": [],
   "source": [
    "\n",
    "gpt2_tok = AutoTokenizer.from_pretrained(gpt2_name)\n",
    "gpt2_tok.padding_side = \"right\"\n",
    "gpt2_tok.pad_token = gpt2_tok.eos_token"
   ]
  },
  {
   "cell_type": "markdown",
   "id": "8ca9ac57",
   "metadata": {},
   "source": [
    "Then, we prepare the data for ingesting to the training loop.\n",
    "\n",
    "For `SFTTrainer` to work, we need to properly separate prompts and completions (being completions our expected answers to questions). We apply the function to both training and validation datasets and filter out any with an empty completion to avoid errors."
   ]
  },
  {
   "cell_type": "code",
   "execution_count": 21,
   "id": "da88dc77",
   "metadata": {},
   "outputs": [],
   "source": [
    "# --- make a prompt-completion view of SQuAD ---\n",
    "def to_prompt_completion(batch):\n",
    "    prompts, completions = [], []\n",
    "    for q, c, a in zip(batch[\"question\"], batch[\"context\"], batch[\"answers\"]):\n",
    "        gold = a[\"text\"][0] if a[\"text\"] else \"\"\n",
    "        if not gold.strip():          # filter empties (prevents labelless samples)\n",
    "            gold = \"\"                 # keep or skip; we skip below\n",
    "            \n",
    "        prompts.append(f\"question: {q} context: {c}\")\n",
    "        completions.append(\" \" + gold)\n",
    "    return {\"prompt\": prompts, \"completion\": completions}\n",
    "\n",
    "train_pc = qa_train.map(\n",
    "    to_prompt_completion, batched=True,\n",
    "    remove_columns=qa_train.column_names,\n",
    "    desc=\"Building prompt-completion (train)\"\n",
    ")\n",
    "valid_pc = qa_validation.map(\n",
    "    to_prompt_completion, batched=True,\n",
    "    remove_columns=qa_validation.column_names,\n",
    "    desc=\"Building prompt-completion (valid)\"\n",
    ")\n",
    "\n",
    "# Filter truly empty completions (no supervised tokens)\n",
    "def nonempty(ex): return len(ex[\"completion\"].strip()) > 0\n",
    "train_pc = train_pc.filter(nonempty, desc=\"Filter empty completions (train)\")\n",
    "valid_pc = valid_pc.filter(nonempty, desc=\"Filter empty completions (valid)\")\n"
   ]
  },
  {
   "cell_type": "markdown",
   "id": "e7ad714a",
   "metadata": {},
   "source": [
    "But why do we need to have prompts and completions separated?\n",
    "\n",
    "When we train in Causal Language Modelling, the trainer basically takes the input tokens, shift them to the right by one position, and use them for evaluating the prediction capacity of the model. This prediction distribution is matched against the expected distribution by computing a loss function. \n",
    "\n",
    "However, how much of that distribution is our actual target? We saw that most of the input (question + context) were around 300 tokens, while the expected answer tokens were less than 10 in its majority. This means that if we compute the loss function with all the sequence, the input sequence will be dominating the loss computation and probably diminishing the gains from fine-tuning.\n",
    "\n",
    "In the code below, we set the training parameters, like the `batch size`, `learning rate`, and there is a `completion_only_loss` parameter that targets this specific problem, and it is already implemented!"
   ]
  },
  {
   "cell_type": "code",
   "execution_count": 22,
   "id": "cc53627c",
   "metadata": {},
   "outputs": [
    {
     "name": "stderr",
     "output_type": "stream",
     "text": [
      "The tokenizer has new PAD/BOS/EOS tokens that differ from the model config and generation config. The model config and generation config were aligned accordingly, being updated with the tokenizer's values. Updated tokens: {'pad_token_id': 50256}.\n",
      "`loss_type=None` was set in the config but it is unrecognized. Using the default loss: `ForCausalLMLoss`.\n"
     ]
    },
    {
     "data": {
      "text/html": [
       "\n",
       "    <div>\n",
       "      \n",
       "      <progress value='1252' max='1252' style='width:300px; height:20px; vertical-align: middle;'></progress>\n",
       "      [1252/1252 09:02, Epoch 4/4]\n",
       "    </div>\n",
       "    <table border=\"1\" class=\"dataframe\">\n",
       "  <thead>\n",
       " <tr style=\"text-align: left;\">\n",
       "      <th>Step</th>\n",
       "      <th>Training Loss</th>\n",
       "      <th>Validation Loss</th>\n",
       "      <th>Entropy</th>\n",
       "      <th>Num Tokens</th>\n",
       "      <th>Mean Token Accuracy</th>\n",
       "    </tr>\n",
       "  </thead>\n",
       "  <tbody>\n",
       "    <tr>\n",
       "      <td>200</td>\n",
       "      <td>0.842100</td>\n",
       "      <td>0.709239</td>\n",
       "      <td>2.556895</td>\n",
       "      <td>1139695.000000</td>\n",
       "      <td>0.828394</td>\n",
       "    </tr>\n",
       "    <tr>\n",
       "      <td>400</td>\n",
       "      <td>0.613200</td>\n",
       "      <td>0.618537</td>\n",
       "      <td>2.494343</td>\n",
       "      <td>2312402.000000</td>\n",
       "      <td>0.843151</td>\n",
       "    </tr>\n",
       "    <tr>\n",
       "      <td>600</td>\n",
       "      <td>0.542100</td>\n",
       "      <td>0.579403</td>\n",
       "      <td>2.420723</td>\n",
       "      <td>3458994.000000</td>\n",
       "      <td>0.850641</td>\n",
       "    </tr>\n",
       "    <tr>\n",
       "      <td>800</td>\n",
       "      <td>0.509800</td>\n",
       "      <td>0.558452</td>\n",
       "      <td>2.294940</td>\n",
       "      <td>4610184.000000</td>\n",
       "      <td>0.856891</td>\n",
       "    </tr>\n",
       "    <tr>\n",
       "      <td>1000</td>\n",
       "      <td>0.439100</td>\n",
       "      <td>0.563348</td>\n",
       "      <td>2.245056</td>\n",
       "      <td>5751667.000000</td>\n",
       "      <td>0.856759</td>\n",
       "    </tr>\n",
       "    <tr>\n",
       "      <td>1200</td>\n",
       "      <td>0.437200</td>\n",
       "      <td>0.556084</td>\n",
       "      <td>2.258068</td>\n",
       "      <td>6890743.000000</td>\n",
       "      <td>0.854903</td>\n",
       "    </tr>\n",
       "  </tbody>\n",
       "</table><p>"
      ],
      "text/plain": [
       "<IPython.core.display.HTML object>"
      ]
     },
     "metadata": {},
     "output_type": "display_data"
    },
    {
     "name": "stderr",
     "output_type": "stream",
     "text": [
      "There were missing keys in the checkpoint model loaded: ['lm_head.weight'].\n"
     ]
    },
    {
     "data": {
      "text/plain": [
       "TrainOutput(global_step=1252, training_loss=0.6525307459572253, metrics={'train_runtime': 544.8684, 'train_samples_per_second': 73.412, 'train_steps_per_second': 2.298, 'total_flos': 1.3563644621684736e+16, 'train_loss': 0.6525307459572253, 'entropy': 2.385621428489685, 'num_tokens': 7152692.0, 'mean_token_accuracy': 0.9049517214298248, 'epoch': 4.0})"
      ]
     },
     "execution_count": 22,
     "metadata": {},
     "output_type": "execute_result"
    }
   ],
   "source": [
    "cfg = SFTConfig(\n",
    "    num_train_epochs=4,\n",
    "    per_device_train_batch_size=32,\n",
    "    per_device_eval_batch_size=32,\n",
    "    gradient_accumulation_steps=1,\n",
    "    learning_rate=1e-5,\n",
    "    max_grad_norm=1.0,\n",
    "    seed=SEED,\n",
    "\n",
    "    # Efficiency\n",
    "    group_by_length=True,       # minimize padding in each batch\n",
    "\n",
    "    # Precision / memory\n",
    "    gradient_checkpointing=True,\n",
    "\n",
    "    # Forward to from_pretrained (disable cache during training)\n",
    "    model_init_kwargs={\"use_cache\": False},\n",
    "\n",
    "    # make completion-only explicit; it’s default for prompt-completion\n",
    "    completion_only_loss=True,\n",
    "\n",
    "    # Logging & eval\n",
    "    report_to=[],\n",
    "    run_name=None,\n",
    "    logging_strategy=\"steps\",\n",
    "    eval_strategy=\"steps\",\n",
    "    eval_steps=200,\n",
    "\n",
    "    save_strategy=\"steps\",\n",
    "    save_steps=400,\n",
    "    save_total_limit=1,             # keep only {best, most recent}\n",
    "    load_best_model_at_end=True    # after training, load the best checkpoint\n",
    ")\n",
    "\n",
    "trainer = SFTTrainer(\n",
    "    model=gpt2_name,\n",
    "    args=cfg,\n",
    "    train_dataset=train_pc,          # expects columns: \"prompt\", \"completion\"\n",
    "    eval_dataset=valid_pc,\n",
    "    processing_class=gpt2_tok,            # <-- pass tokenizer here\n",
    ")\n",
    "trainer.train()"
   ]
  },
  {
   "cell_type": "markdown",
   "id": "ef628097",
   "metadata": {},
   "source": [
    "Now, lets see if this tuned model really learned something"
   ]
  },
  {
   "cell_type": "markdown",
   "id": "a04d74ab",
   "metadata": {},
   "source": [
    "### After training\n",
    "\n",
    "Run the same evaluation as before. If EM and F1 improved, open a few examples to see how. Do answers look more concise? Are fewer getting cut off? Keep one or two before/after examples—we’ll revisit them in the wrap‑up."
   ]
  },
  {
   "cell_type": "code",
   "execution_count": 23,
   "id": "46431c6b",
   "metadata": {},
   "outputs": [
    {
     "name": "stdout",
     "output_type": "stream",
     "text": [
      "=   Evaluating fine-tuned GPT-2 with strategy 'minimal' on Test! =\n"
     ]
    },
    {
     "name": "stderr",
     "output_type": "stream",
     "text": [
      "100%|██████████| 63/63 [00:36<00:00,  1.74it/s]\n"
     ]
    },
    {
     "name": "stdout",
     "output_type": "stream",
     "text": [
      "-> EM: 58.55 F1: 67.71997057461992\n",
      "\n"
     ]
    }
   ],
   "source": [
    "\n",
    "print(f\"=   Evaluating fine-tuned GPT-2 with strategy '{BEST_STRATEGY}' on Test! =\")\n",
    "gpt2 = trainer.model.eval()\n",
    "gpt2_tok = trainer.processing_class\n",
    "prompts, references = apply_qa_prompt_strategy(BEST_STRATEGY, dataset)\n",
    "predictions = clm_inference(gpt2, gpt2_tok, prompts)\n",
    "scores = evaluate_qa(predictions, references)\n",
    "print(f\"-> EM: {scores['exact_match']} F1: {scores['f1']}\", end='\\n\\n')\n"
   ]
  },
  {
   "cell_type": "code",
   "execution_count": 24,
   "id": "dc04dec5",
   "metadata": {},
   "outputs": [],
   "source": [
    "del trainer\n",
    "clear_memory()"
   ]
  },
  {
   "cell_type": "markdown",
   "id": "6e6bc749",
   "metadata": {},
   "source": [
    "Great, it seems **GPT-2** now understand the task a lot better and improved its performance over 10 times! Now it is comparable to base **T5** with the prompting strategy 'minimal'."
   ]
  },
  {
   "cell_type": "markdown",
   "id": "ba38e6b4",
   "metadata": {},
   "source": [
    "We’ve now guided a general model with a clear prompt and tuned it so it answers questions more reliably. Let’s apply the same workflow to translation: start with a simple prompt, see what we get, and then fine‑tune a model to translate English to Spanish more consistently."
   ]
  },
  {
   "cell_type": "markdown",
   "id": "028e38a9",
   "metadata": {},
   "source": [
    "# Part B — Machine Translation (English→Spanish on OPUS‑100)\n",
    "\n",
    "We now examine **machine translation** with **t5-base** and **GPT-2-medium** and see how these models behave in this task.\n"
   ]
  },
  {
   "cell_type": "markdown",
   "id": "e97b3937",
   "metadata": {},
   "source": [
    "Let’s look at a few English–Spanish pairs to get a feel for length, tone, and named entities that must be preserved."
   ]
  },
  {
   "cell_type": "code",
   "execution_count": 25,
   "id": "02b1d184",
   "metadata": {},
   "outputs": [
    {
     "data": {
      "application/vnd.jupyter.widget-view+json": {
       "model_id": "a4796d9e6c3a406fb55bfe5075b3043c",
       "version_major": 2,
       "version_minor": 0
      },
      "text/plain": [
       "README.md: 0.00B [00:00, ?B/s]"
      ]
     },
     "metadata": {},
     "output_type": "display_data"
    },
    {
     "data": {
      "application/vnd.jupyter.widget-view+json": {
       "model_id": "02e6447eaa12473ab0db819ef3b9c9ef",
       "version_major": 2,
       "version_minor": 0
      },
      "text/plain": [
       "test-00000-of-00001.parquet:   0%|          | 0.00/237k [00:00<?, ?B/s]"
      ]
     },
     "metadata": {},
     "output_type": "display_data"
    },
    {
     "data": {
      "application/vnd.jupyter.widget-view+json": {
       "model_id": "ec559b5f521f4056a8c9c6d4c93b6ce0",
       "version_major": 2,
       "version_minor": 0
      },
      "text/plain": [
       "train-00000-of-00001.parquet:   0%|          | 0.00/99.6M [00:00<?, ?B/s]"
      ]
     },
     "metadata": {},
     "output_type": "display_data"
    },
    {
     "data": {
      "application/vnd.jupyter.widget-view+json": {
       "model_id": "352cadef7d1846e58019e3f736e532d0",
       "version_major": 2,
       "version_minor": 0
      },
      "text/plain": [
       "validation-00000-of-00001.parquet:   0%|          | 0.00/238k [00:00<?, ?B/s]"
      ]
     },
     "metadata": {},
     "output_type": "display_data"
    },
    {
     "data": {
      "application/vnd.jupyter.widget-view+json": {
       "model_id": "822e9c34ed0f49a79ec428b11aa58c8e",
       "version_major": 2,
       "version_minor": 0
      },
      "text/plain": [
       "Generating test split:   0%|          | 0/2000 [00:00<?, ? examples/s]"
      ]
     },
     "metadata": {},
     "output_type": "display_data"
    },
    {
     "data": {
      "application/vnd.jupyter.widget-view+json": {
       "model_id": "33a1090a9ee448caa24ca04175f2a312",
       "version_major": 2,
       "version_minor": 0
      },
      "text/plain": [
       "Generating train split:   0%|          | 0/1000000 [00:00<?, ? examples/s]"
      ]
     },
     "metadata": {},
     "output_type": "display_data"
    },
    {
     "data": {
      "application/vnd.jupyter.widget-view+json": {
       "model_id": "f545c00349f94c4e82fbc228957de73d",
       "version_major": 2,
       "version_minor": 0
      },
      "text/plain": [
       "Generating validation split:   0%|          | 0/2000 [00:00<?, ? examples/s]"
      ]
     },
     "metadata": {},
     "output_type": "display_data"
    }
   ],
   "source": [
    "# %%\n",
    "# Load OPUS-100 English-Spanish. The full dataset is large; we will sample for class runtime.\n",
    "opus = load_dataset('Helsinki-NLP/opus-100', 'en-es')\n",
    "opus\n",
    "\n",
    "opus_train = opus['train'].shuffle()\n",
    "opus_validation = opus['validation'].shuffle()\n",
    "opus_test = opus['test'].shuffle()"
   ]
  },
  {
   "cell_type": "code",
   "execution_count": 26,
   "id": "5ab5448d",
   "metadata": {},
   "outputs": [
    {
     "name": "stdout",
     "output_type": "stream",
     "text": [
      "{\n",
      "  \"translation\": {\n",
      "    \"en\": \"What measures exist to prevent their forgery etc?\",\n",
      "    \"es\": \"¿Qué medidas existen para evitar su falsificación, etc.?\"\n",
      "  }\n",
      "}\n",
      "{\n",
      "  \"translation\": {\n",
      "    \"en\": \"- Cries.\",\n",
      "    \"es\": \"- Gritos.\"\n",
      "  }\n",
      "}\n",
      "{\n",
      "  \"translation\": {\n",
      "    \"en\": \"If only we can get down to them.\",\n",
      "    \"es\": \"Si tan solo pudiéramos bajar.\"\n",
      "  }\n",
      "}\n",
      "{\n",
      "  \"translation\": {\n",
      "    \"en\": \"Okay, that bitch is dead.\",\n",
      "    \"es\": \"Okay, esa perra esta muerta.\"\n",
      "  }\n",
      "}\n"
     ]
    }
   ],
   "source": [
    "peek(opus_train)\n",
    "peek(opus_validation)"
   ]
  },
  {
   "cell_type": "markdown",
   "id": "fedf0633",
   "metadata": {},
   "source": [
    "Translated sentences are naturally longer than short QA answers. We’ll repeat the length check for English sources and Spanish targets and set comfortable caps so we do not cut off translations. As before, aim for the upper part of the observed distribution."
   ]
  },
  {
   "cell_type": "code",
   "execution_count": 27,
   "id": "c313f662",
   "metadata": {},
   "outputs": [
    {
     "name": "stdout",
     "output_type": "stream",
     "text": [
      "\n",
      "T5 source (en) lengths percentiles: {50: 9, 75: 16, 90: 31, 95: 43, 99: 71}\n",
      "T5 target (es) lengths percentiles: {50: 18, 75: 33, 90: 69, 95: 98, 99: 161}\n",
      "\n",
      "GPT-2 source (en) lengths percentiles: {50: 9, 75: 16, 90: 31, 95: 43, 99: 71}\n",
      "GPT-2 target (es) lengths percentiles: {50: 14, 75: 26, 90: 56, 95: 80, 99: 132}\n"
     ]
    },
    {
     "data": {
      "image/png": "[encoded data removed]",
      "text/plain": [
       "<Figure size 640x480 with 1 Axes>"
      ]
     },
     "metadata": {},
     "output_type": "display_data"
    },
    {
     "data": {
      "image/png": "[encoded data removed]",
      "text/plain": [
       "<Figure size 640x480 with 1 Axes>"
      ]
     },
     "metadata": {},
     "output_type": "display_data"
    }
   ],
   "source": [
    "# %%\n",
    "t5_name = 't5-base'              # good for text-to-text demos\n",
    "gpt2_name = 'gpt2-medium'                # medium GPT-2\n",
    "\n",
    "t5_tok = AutoTokenizer.from_pretrained(t5_name)\n",
    "gpt2_tok = AutoTokenizer.from_pretrained(gpt2_name)\n",
    "\n",
    "def mt_lengths(ds: Dataset, tokenizer, src_key='en', tgt_key='es', max_rows: int = 20000):\n",
    "    rows = min(len(ds), max_rows)\n",
    "    src_lens, tgt_lens = [], []\n",
    "    for i in range(rows):\n",
    "        ex = ds[i]['translation']\n",
    "        src_lens.append(len(tokenizer(ex[src_key]).input_ids))\n",
    "        tgt_lens.append(len(tokenizer(ex[tgt_key]).input_ids))\n",
    "    return np.array(src_lens), np.array(tgt_lens)\n",
    "\n",
    "src_l_mt_t5, tgt_l_mt_t5 = mt_lengths(opus_train, t5_tok, max_rows=20000)\n",
    "src_l_mt_gpt, tgt_l_mt_gpt = mt_lengths(opus_train, gpt2_tok, max_rows=20000)\n",
    "\n",
    "def summarize_lens(name, src, tgt):\n",
    "    def pct(a): \n",
    "        return {p:int(np.percentile(a,p)) for p in [50,75,90,95,99]}\n",
    "    print(f\"\\n{name} source (en) lengths percentiles:\", pct(src))\n",
    "    print(f\"{name} target (es) lengths percentiles:\", pct(tgt))\n",
    "\n",
    "summarize_lens('T5', src_l_mt_gpt, tgt_l_mt_t5)\n",
    "summarize_lens('GPT-2', src_l_mt_gpt, tgt_l_mt_gpt)\n",
    "\n",
    "plt.figure()\n",
    "plt.hist(src_l_mt_t5, bins=60)\n",
    "plt.title('T5 tokenized source length (English)')\n",
    "plt.xlabel('tokens'); plt.ylabel('count')\n",
    "plt.show()\n",
    "\n",
    "plt.figure()\n",
    "plt.hist(tgt_l_mt_t5, bins=60)\n",
    "plt.title('T5 tokenized target length (Spanish)')\n",
    "plt.xlabel('tokens'); plt.ylabel('count')\n",
    "plt.show()"
   ]
  },
  {
   "cell_type": "code",
   "execution_count": 28,
   "id": "52759406",
   "metadata": {},
   "outputs": [
    {
     "name": "stdout",
     "output_type": "stream",
     "text": [
      "MAX_SOURCE_MT = 128\n",
      "MAX_TARGET_MT = 256\n"
     ]
    }
   ],
   "source": [
    "# %%\n",
    "# Based on the printed percentiles above, set conservative defaults.\n",
    "# If you have a smaller GPU, reduce these (e.g., source 384).\n",
    "\n",
    "MAX_SOURCE_MT = 128\n",
    "MAX_TARGET_MT = 256\n",
    "\n",
    "print('MAX_SOURCE_MT =', MAX_SOURCE_MT)\n",
    "print('MAX_TARGET_MT =', MAX_TARGET_MT)\n"
   ]
  },
  {
   "cell_type": "markdown",
   "id": "16c14aff",
   "metadata": {},
   "source": [
    "Same as with SQUAD, we will work with subsets of OPUS. "
   ]
  },
  {
   "cell_type": "code",
   "execution_count": 29,
   "id": "627efaf9",
   "metadata": {},
   "outputs": [],
   "source": [
    "mt_train = opus_train.select(range(60000))\n",
    "mt_validation = opus_validation.select(range(2000))\n",
    "mt_test = opus_test.select(range(2000))\n",
    "\n",
    "# cleaning unused data\n",
    "del opus\n",
    "del opus_train\n",
    "del opus_validation\n",
    "del opus_test\n",
    "clear_memory()"
   ]
  },
  {
   "cell_type": "markdown",
   "id": "7358450d",
   "metadata": {},
   "source": [
    "#### Evaluation for Translation\n",
    "\n",
    "For this session we evaluate QA on the BLEU metric:\n",
    "\n",
    "**BLEU** - bilingual evaluation understudy (BLEU) score. BLEU computes the geometric mean of modified n-gram precisions between a candidate and one or more reference translations, multiplied by a brevity penalty. Scores lie between 0 and 1, where values closer to 1 indicate closer correspondence to references.\n",
    "\n",
    "In this notebook, we’ll report **sacreBLEU**, a version of BLEU that standardizes tokenization so scores are comparable and reproducible.\n",
    "\n",
    "We will make use of the official metric implementations available in Huggingface Evaluate"
   ]
  },
  {
   "cell_type": "code",
   "execution_count": 30,
   "id": "426747e2",
   "metadata": {},
   "outputs": [
    {
     "data": {
      "application/vnd.jupyter.widget-view+json": {
       "model_id": "5474860959ef42dfab442fab5234da90",
       "version_major": 2,
       "version_minor": 0
      },
      "text/plain": [
       "Downloading builder script: 0.00B [00:00, ?B/s]"
      ]
     },
     "metadata": {},
     "output_type": "display_data"
    }
   ],
   "source": [
    "bleu_metric = evaluate.load('sacrebleu')\n",
    "\n",
    "def evaluate_bleu(predictions, references):\n",
    "    \"\"\"Evaluate BLEU score for translation tasks.\"\"\"\n",
    "    return bleu_metric.compute(predictions=predictions, references=references)"
   ]
  },
  {
   "cell_type": "markdown",
   "id": "8f66a35f",
   "metadata": {},
   "source": [
    "### Translation Prompting\n",
    "\n",
    "Now, just like with Question Answering, we will see how we can use these models without any fine-tuning for Machine Translation. lets try different prompting strategies!\n",
    "\n",
    "Try adding some prompts to `mt_prompt_strategies` and see what performance you get."
   ]
  },
  {
   "cell_type": "code",
   "execution_count": 31,
   "id": "3b9dcacf",
   "metadata": {},
   "outputs": [],
   "source": [
    "mt_prompt_strategies = {\n",
    "    'minimal': lambda en_source: f\"English: {en_source} Spanish:\",\n",
    "    'minimal_instruction': lambda en_source: f\"Translate English to Spanish: {en_source}\",\n",
    "    'instruction': lambda en_source: f'Translate English to Spanish: {en_source}\\nTranslation:',\n",
    "    # Add your own strategies here.\n",
    "}\n",
    "\n",
    "def apply_mt_prompt_strategy(strategy_name, dataset) -> Tuple[List[str], List[str]]:\n",
    "    \"\"\"\n",
    "    Apply the specified prompt strategy to the dataset.\n",
    "\n",
    "    Returns:\n",
    "        A tuple containing the list of prompts and the list of reference answers.\n",
    "    \"\"\"\n",
    "    if strategy_name in mt_prompt_strategies:\n",
    "        prompt_func = mt_prompt_strategies[strategy_name]\n",
    "        prompts = [prompt_func(sample['translation']['en']) for sample in dataset]\n",
    "        references = [sample['translation']['es'] for sample in dataset]\n",
    "        return prompts, references\n",
    "    else:\n",
    "        raise ValueError(f\"Unknown prompt strategy: {strategy_name}\")"
   ]
  },
  {
   "cell_type": "markdown",
   "id": "b4404b99",
   "metadata": {},
   "source": [
    "Test your prompts visually with the cell below"
   ]
  },
  {
   "cell_type": "code",
   "execution_count": 32,
   "id": "1debcdbd",
   "metadata": {},
   "outputs": [
    {
     "name": "stdout",
     "output_type": "stream",
     "text": [
      "== strategy 'minimal' with T5 ==\n"
     ]
    },
    {
     "name": "stderr",
     "output_type": "stream",
     "text": [
      "100%|██████████| 1/1 [00:00<00:00,  8.13it/s]"
     ]
    },
    {
     "name": "stdout",
     "output_type": "stream",
     "text": [
      "Prompt: 'English: If only we can get down to them. Spanish:'\n",
      "Prediction: 'Wenn wir nur auf sie zugehen können.'\n",
      "Reference: 'Si tan solo pudiéramos bajar.'\n",
      "Prompt: 'English: Okay, that bitch is dead. Spanish:'\n",
      "Prediction: 'Okay, that bitch is dead.'\n",
      "Reference: 'Okay, esa perra esta muerta.'\n",
      "-> BLEU: 7.1338676779176575\n",
      "\n"
     ]
    },
    {
     "name": "stderr",
     "output_type": "stream",
     "text": [
      "\n"
     ]
    },
    {
     "name": "stdout",
     "output_type": "stream",
     "text": [
      "== strategy 'minimal' with GPT-2 ==\n"
     ]
    },
    {
     "name": "stderr",
     "output_type": "stream",
     "text": [
      "100%|██████████| 1/1 [00:01<00:00,  1.22s/it]"
     ]
    },
    {
     "name": "stdout",
     "output_type": "stream",
     "text": [
      "Prompt: 'English: If only we can get down to them. Spanish:'\n",
      "Prediction: 'Español\n",
      "\n",
      "Finnish: Päätä (fi)\n",
      "\n",
      "French: Père (fr)\n",
      "\n",
      "German: Pfeil (de)\n",
      "\n",
      "Italian: Piazza (it)\n",
      "\n",
      "Polish: Příż (pl)\n",
      "\n",
      "Port'\n",
      "Reference: 'Si tan solo pudiéramos bajar.'\n",
      "Prompt: 'English: Okay, that bitch is dead. Spanish:'\n",
      "Prediction: 'I'm sorry.\n",
      "\n",
      "In the episode \"The Man Who Wasn't There\", the character of the character of the character of the character of the character of the character of the character of the character of the character of the character of the character of the character of the character of the character of the character of the'\n",
      "Reference: 'Okay, esa perra esta muerta.'\n",
      "-> BLEU: 0.47256291889095237\n",
      "\n"
     ]
    },
    {
     "name": "stderr",
     "output_type": "stream",
     "text": [
      "\n"
     ]
    }
   ],
   "source": [
    "dataset = mt_validation.select(range(2))\n",
    "\n",
    "STRATEGY = \"minimal\"\n",
    "\n",
    "# Uncomment to test t5\n",
    "t5 = AutoModelForSeq2SeqLM.from_pretrained(t5_name).to(device)\n",
    "t5_tok = AutoTokenizer.from_pretrained(t5_name)\n",
    "\n",
    "print(f\"== strategy '{STRATEGY}' with T5 ==\")\n",
    "prompts, references = apply_mt_prompt_strategy(STRATEGY, dataset)\n",
    "predictions = seq2seq_inference(t5, t5_tok, prompts)\n",
    "\n",
    "for prompt, prediction, reference in zip(prompts, predictions, references):\n",
    "    print(f\"Prompt: '{prompt}'\")\n",
    "    print(f\"Prediction: '{prediction}'\")\n",
    "    print(f\"Reference: '{reference}'\",)\n",
    "\n",
    "scores = evaluate_bleu(predictions, references)\n",
    "print(f\"-> BLEU: {scores['score']}\", end='\\n\\n')\n",
    "\n",
    "\n",
    "# Uncomment to test GPT-2\n",
    "gpt2 = AutoModelForCausalLM.from_pretrained(gpt2_name).to(device)\n",
    "gpt2_tok = AutoTokenizer.from_pretrained(gpt2_name)\n",
    "\n",
    "print(f\"== strategy '{STRATEGY}' with GPT-2 ==\")\n",
    "prompts, references = apply_mt_prompt_strategy(STRATEGY, dataset)\n",
    "predictions = clm_inference(gpt2, gpt2_tok, prompts)\n",
    "\n",
    "for prompt, prediction, reference in zip(prompts, predictions, references):\n",
    "    print(f\"Prompt: '{prompt}'\")\n",
    "    print(f\"Prediction: '{prediction}'\")\n",
    "    print(f\"Reference: '{reference}'\")\n",
    "\n",
    "scores = evaluate_bleu(predictions, references)\n",
    "print(f\"-> BLEU: {scores['score']}\", end='\\n\\n')"
   ]
  },
  {
   "cell_type": "markdown",
   "id": "77d87e8a",
   "metadata": {},
   "source": [
    "Add your strategy, then run the cell below to evaluate all defined strategies on the validation set. Skim a few outputs to see what the model is doing (top cell)."
   ]
  },
  {
   "cell_type": "code",
   "execution_count": 33,
   "id": "5118d541",
   "metadata": {},
   "outputs": [
    {
     "name": "stdout",
     "output_type": "stream",
     "text": [
      "=   Evaluating T5   =\n",
      "== strategy 'minimal' ==\n"
     ]
    },
    {
     "name": "stderr",
     "output_type": "stream",
     "text": [
      "100%|██████████| 32/32 [00:24<00:00,  1.29it/s]\n"
     ]
    },
    {
     "name": "stdout",
     "output_type": "stream",
     "text": [
      "{'score': 3.361462627466688, 'counts': [4560, 1127, 634, 366], 'totals': [34088, 32127, 30166, 28272], 'precisions': [13.377141516076039, 3.5079528122762786, 2.101703905058675, 1.2945670628183361], 'bp': 1.0, 'sys_len': 34088, 'ref_len': 31448}\n",
      "-> BLEU: 3.361462627466688\n",
      "\n",
      "== strategy 'minimal_instruction' ==\n"
     ]
    },
    {
     "name": "stderr",
     "output_type": "stream",
     "text": [
      "100%|██████████| 32/32 [00:24<00:00,  1.29it/s]\n"
     ]
    },
    {
     "name": "stdout",
     "output_type": "stream",
     "text": [
      "{'score': 3.698354643371917, 'counts': [4781, 1136, 622, 351], 'totals': [29007, 27021, 25040, 23064], 'precisions': [16.482228427620917, 4.204137522667555, 2.484025559105431, 1.5218522372528616], 'bp': 0.9192914201170537, 'sys_len': 29007, 'ref_len': 31448}\n",
      "-> BLEU: 3.698354643371917\n",
      "\n",
      "== strategy 'instruction' ==\n"
     ]
    },
    {
     "name": "stderr",
     "output_type": "stream",
     "text": [
      "100%|██████████| 32/32 [00:25<00:00,  1.28it/s]\n"
     ]
    },
    {
     "name": "stdout",
     "output_type": "stream",
     "text": [
      "{'score': 3.1754750932578806, 'counts': [3941, 1034, 581, 344], 'totals': [32436, 30791, 29151, 27512], 'precisions': [12.150080157849303, 3.35812412718002, 1.9930705636170285, 1.2503634777551613], 'bp': 1.0, 'sys_len': 32436, 'ref_len': 31448}\n",
      "-> BLEU: 3.1754750932578806\n",
      "\n",
      "\n",
      "=   Evaluating GPT-2   =\n",
      "== strategy 'minimal' ==\n"
     ]
    },
    {
     "name": "stderr",
     "output_type": "stream",
     "text": [
      "100%|██████████| 32/32 [00:38<00:00,  1.20s/it]\n"
     ]
    },
    {
     "name": "stdout",
     "output_type": "stream",
     "text": [
      "-> BLEU: 0.8773971640611861\n",
      "\n",
      "== strategy 'minimal_instruction' ==\n"
     ]
    },
    {
     "name": "stderr",
     "output_type": "stream",
     "text": [
      "100%|██████████| 32/32 [00:38<00:00,  1.21s/it]\n"
     ]
    },
    {
     "name": "stdout",
     "output_type": "stream",
     "text": [
      "-> BLEU: 0.5842604651120387\n",
      "\n",
      "== strategy 'instruction' ==\n"
     ]
    },
    {
     "name": "stderr",
     "output_type": "stream",
     "text": [
      "100%|██████████| 32/32 [00:38<00:00,  1.21s/it]\n"
     ]
    },
    {
     "name": "stdout",
     "output_type": "stream",
     "text": [
      "-> BLEU: 0.4003185845818317\n",
      "\n"
     ]
    }
   ],
   "source": [
    "dataset = mt_validation\n",
    "\n",
    "print(\"=   Evaluating T5   =\")\n",
    "t5 = AutoModelForSeq2SeqLM.from_pretrained(t5_name).to(device)\n",
    "t5_tok = AutoTokenizer.from_pretrained(t5_name)\n",
    "for strategy_name in mt_prompt_strategies.keys():\n",
    "    print(f\"== strategy '{strategy_name}' ==\")\n",
    "    prompts, references = apply_mt_prompt_strategy(strategy_name, dataset)\n",
    "    predictions = seq2seq_inference(t5, t5_tok, prompts, batch_size=64)\n",
    "    scores = evaluate_bleu(predictions, references)\n",
    "    print(scores)\n",
    "    print(f\"-> BLEU: {scores['score']}\", end='\\n\\n')\n",
    "\n",
    "del t5\n",
    "clear_memory()\n",
    "\n",
    "print(\"\\n=   Evaluating GPT-2   =\")\n",
    "gpt2 = AutoModelForCausalLM.from_pretrained(gpt2_name).to(device)\n",
    "gpt2_tok = AutoTokenizer.from_pretrained(gpt2_name)\n",
    "for strategy_name in mt_prompt_strategies.keys():\n",
    "    print(f\"== strategy '{strategy_name}' ==\")\n",
    "    prompts, references = apply_mt_prompt_strategy(strategy_name, dataset)\n",
    "    predictions = clm_inference(gpt2, gpt2_tok, prompts, batch_size=64)\n",
    "    scores = evaluate_bleu(predictions, references)\n",
    "    print(f\"-> BLEU: {scores['score']}\", end='\\n\\n')\n",
    "\n",
    "del gpt2\n",
    "clear_memory()"
   ]
  },
  {
   "cell_type": "markdown",
   "id": "47336711",
   "metadata": {},
   "source": [
    "Before looking at scores alone, read a handful of translations. When outputs look off, is it the wrong language, a missing phrase, or a tense mismatch? A short qualitative pass often explains the numbers you see."
   ]
  },
  {
   "cell_type": "markdown",
   "id": "d78ab6fe",
   "metadata": {},
   "source": [
    "**T5** seems to be the best, but both seem underperforming, right? **T5** was actually trained in translation too, so why is it that bad? Lets analyze its responses to see if the model is translating, and if so, to what language."
   ]
  },
  {
   "cell_type": "code",
   "execution_count": 34,
   "id": "a7c128bc",
   "metadata": {},
   "outputs": [
    {
     "name": "stdout",
     "output_type": "stream",
     "text": [
      "== T5 with strategy 'minimal_instruction' ==\n"
     ]
    },
    {
     "name": "stderr",
     "output_type": "stream",
     "text": [
      "100%|██████████| 1/1 [00:00<00:00,  1.46it/s]\n"
     ]
    },
    {
     "name": "stdout",
     "output_type": "stream",
     "text": [
      "prompt: 'Translate English to Spanish: If only we can get down to them.'\n",
      "reference: 'Si tan solo pudiéramos bajar.'\n",
      "prediction: 'Wenn wir nur auf sie zukommen.'\n",
      "expected: 'Spanish', got: 'German'\n",
      "\n",
      "prompt: 'Translate English to Spanish: Okay, that bitch is dead.'\n",
      "reference: 'Okay, esa perra esta muerta.'\n",
      "prediction: 'Okay, diese Hündin ist tot.'\n",
      "expected: 'Spanish', got: 'Afrikaans'\n",
      "\n",
      "prompt: 'Translate English to Spanish: This is some sort of joke, right?'\n",
      "reference: 'Esta es una especie de broma, ¿verdad?'\n",
      "prediction: 'Das ist eine Art Witz, oder?'\n",
      "expected: 'Spanish', got: 'German'\n",
      "\n",
      "prompt: 'Translate English to Spanish: Michaelson, can you hear me?'\n",
      "reference: 'Michaelson, puedes escucharme?'\n",
      "prediction: 'Michaelson, können Sie mich hören?'\n",
      "expected: 'Spanish', got: 'German'\n",
      "\n",
      "prompt: 'Translate English to Spanish: \"The ethical and moral responsibilities linked with scientific research can, then, be seen as an internal requirement of science inasmuch as it is a fully human activity, and not as a control or, worse still, an imposition that comes from outside.\"'\n",
      "reference: 'Más adelante, el Papa manifestó que \"las responsabilidades éticas y morales ligadas a la investigación científica deben ser tomadas como una exigencia interna a la ciencia en cuanto actividad plenamente humana, no como un control o una imposición que venga de fuera\".'\n",
      "prediction: '\"Die mit der wissenschaftlichen Forschung verbundenen ethischen und moralischen Verantwortlichkeiten können daher als interne Anforderung der Wissenschaft betrachtet werden, da sie eine voll menschliche Tätigkeit ist, und nicht als Kontrolle oder, schlimmer noch, als Auferlegung von außen.\"'\n",
      "expected: 'Spanish', got: 'German'\n",
      "\n"
     ]
    }
   ],
   "source": [
    "# %%\n",
    "\n",
    "from langdetect import detect, DetectorFactory\n",
    "from langcodes import Language\n",
    "DetectorFactory.seed = SEED\n",
    "\n",
    "STRATEGY = \"minimal_instruction\"\n",
    "\n",
    "t5 = AutoModelForSeq2SeqLM.from_pretrained(t5_name).to(device)\n",
    "print(f\"== T5 with strategy '{STRATEGY}' ==\")\n",
    "prompts, references = apply_mt_prompt_strategy(STRATEGY, dataset.select(range(5)))\n",
    "predictions = seq2seq_inference(t5, t5_tok, prompts, batch_size=32)\n",
    "\n",
    "for prompt, reference, prediction in zip(prompts, references, predictions):\n",
    "    print(f\"prompt: '{prompt}'\\nreference: '{reference}'\\nprediction: '{prediction}'\")\n",
    "    \n",
    "    try:\n",
    "        lang_ref = Language.make(detect(reference)).display_name()\n",
    "    except:\n",
    "        lang_ref = 'unk'\n",
    "    try:\n",
    "        lang_pred = Language.make(detect(prediction)).display_name()\n",
    "    except:\n",
    "        lang_pred = 'unk'\n",
    "\n",
    "    print(f\"expected: '{lang_ref}', got: '{lang_pred}'\\n\")\n",
    "    \n",
    "del t5\n",
    "clear_memory()"
   ]
  },
  {
   "cell_type": "markdown",
   "id": "1ca410e0",
   "metadata": {},
   "source": [
    "It seems that **T5** is translating. However instead of producing spanish it is producing German! This hints us to an important detail about the model pretraining. \n",
    "\n",
    "Actually, according to the model [documentation](https://huggingface.co/google-t5/t5-base) we see this:\n",
    "\n",
    "> Language(s) (NLP): English, French, Romanian, **German**\n",
    "\n",
    "So, troublesome as it is, Spanish is not a language this model has been trained on. Let us change that.\n"
   ]
  },
  {
   "cell_type": "markdown",
   "id": "e60ff785",
   "metadata": {},
   "source": [
    "### Fine‑tune `t5-base` for English→Spanish\n",
    "\n",
    "We’ll fine‑tune **T5** on our English→Spanish pairs. Each input is the prefixed English sentence; each target is the Spanish reference. A short run is often enough to make outputs more consistent and to reduce off‑target surprises."
   ]
  },
  {
   "cell_type": "code",
   "execution_count": 35,
   "id": "1aa61c63",
   "metadata": {},
   "outputs": [],
   "source": [
    "t5_ft = AutoModelForSeq2SeqLM.from_pretrained(t5_name)\n",
    "t5_tok = AutoTokenizer.from_pretrained(t5_name)"
   ]
  },
  {
   "cell_type": "markdown",
   "id": "b4fd2787",
   "metadata": {},
   "source": [
    "For preprocessing, we will build our training prompts (as we want to teach the model to identify the task it ought to solve). We prefix inputs with `translate English to Spanish:` and preproces our dataset.\n"
   ]
  },
  {
   "cell_type": "code",
   "execution_count": 36,
   "id": "9390f927",
   "metadata": {},
   "outputs": [
    {
     "data": {
      "application/vnd.jupyter.widget-view+json": {
       "model_id": "75f2fa7468434ec6b16006bf14370326",
       "version_major": 2,
       "version_minor": 0
      },
      "text/plain": [
       "Map:   0%|          | 0/60000 [00:00<?, ? examples/s]"
      ]
     },
     "metadata": {},
     "output_type": "display_data"
    },
    {
     "data": {
      "application/vnd.jupyter.widget-view+json": {
       "model_id": "749553e2632746a7952c00b4fe159a33",
       "version_major": 2,
       "version_minor": 0
      },
      "text/plain": [
       "Map:   0%|          | 0/2000 [00:00<?, ? examples/s]"
      ]
     },
     "metadata": {},
     "output_type": "display_data"
    }
   ],
   "source": [
    "PREFIX = 'translate English to Spanish: '\n",
    "\n",
    "def preprocess_mt_t5(examples):\n",
    "    inputs  = [PREFIX + ex[\"en\"] for ex in examples[\"translation\"]]\n",
    "    targets = [ex[\"es\"] for ex in examples[\"translation\"]]\n",
    "    \n",
    "    # Simpler + recommended: one call with text_target\n",
    "    model_inputs = t5_tok(\n",
    "        inputs,\n",
    "        text_target=targets,\n",
    "        max_length=MAX_SOURCE_MT,\n",
    "        truncation=True\n",
    "    )\n",
    "    return model_inputs\n",
    "\n",
    "train_proc = mt_train.map(\n",
    "    preprocess_mt_t5, batched=True, remove_columns=mt_train.column_names\n",
    ")\n",
    "valid_proc = mt_validation.map(\n",
    "    preprocess_mt_t5, batched=True, remove_columns=mt_validation.column_names\n",
    ")\n",
    "\n",
    "data_collator = DataCollatorForSeq2Seq(tokenizer=t5_tok, model=t5_name)"
   ]
  },
  {
   "cell_type": "markdown",
   "id": "59cb7728",
   "metadata": {},
   "source": [
    "Notice we tokenize before training to keep batches consistent and the training loop simple. The key is that the loss only applies to real target tokens—not padding—so the model learns to write the translation, not special tokens."
   ]
  },
  {
   "cell_type": "markdown",
   "id": "3a6eb407",
   "metadata": {},
   "source": [
    "Lastly, we can set our training parameters and execute"
   ]
  },
  {
   "cell_type": "markdown",
   "id": "7c58db64",
   "metadata": {},
   "source": [
    "We use standard seq2seq training arguments and enable `predict_with_generate=True` so validation scores reflect actual generations. Keep the run short; we’re looking for clear, explainable gains, not leaderboard numbers."
   ]
  },
  {
   "cell_type": "code",
   "execution_count": 37,
   "id": "6c710b28",
   "metadata": {},
   "outputs": [
    {
     "name": "stderr",
     "output_type": "stream",
     "text": [
      "`use_cache=True` is incompatible with gradient checkpointing. Setting `use_cache=False`...\n"
     ]
    },
    {
     "data": {
      "text/html": [
       "\n",
       "    <div>\n",
       "      \n",
       "      <progress value='2001' max='2814' style='width:300px; height:20px; vertical-align: middle;'></progress>\n",
       "      [2001/2814 06:18 < 02:33, 5.28 it/s, Epoch 2.13/3]\n",
       "    </div>\n",
       "    <table border=\"1\" class=\"dataframe\">\n",
       "  <thead>\n",
       " <tr style=\"text-align: left;\">\n",
       "      <th>Step</th>\n",
       "      <th>Training Loss</th>\n",
       "      <th>Validation Loss</th>\n",
       "    </tr>\n",
       "  </thead>\n",
       "  <tbody>\n",
       "    <tr>\n",
       "      <td>200</td>\n",
       "      <td>1.925400</td>\n",
       "      <td>1.579764</td>\n",
       "    </tr>\n",
       "    <tr>\n",
       "      <td>400</td>\n",
       "      <td>1.654500</td>\n",
       "      <td>1.443117</td>\n",
       "    </tr>\n",
       "    <tr>\n",
       "      <td>600</td>\n",
       "      <td>1.525900</td>\n",
       "      <td>1.371741</td>\n",
       "    </tr>\n",
       "    <tr>\n",
       "      <td>800</td>\n",
       "      <td>1.458100</td>\n",
       "      <td>1.296776</td>\n",
       "    </tr>\n",
       "    <tr>\n",
       "      <td>1000</td>\n",
       "      <td>1.374600</td>\n",
       "      <td>1.266505</td>\n",
       "    </tr>\n",
       "    <tr>\n",
       "      <td>1200</td>\n",
       "      <td>1.264200</td>\n",
       "      <td>1.254626</td>\n",
       "    </tr>\n",
       "    <tr>\n",
       "      <td>1400</td>\n",
       "      <td>1.224400</td>\n",
       "      <td>1.227398</td>\n",
       "    </tr>\n",
       "    <tr>\n",
       "      <td>1600</td>\n",
       "      <td>1.199600</td>\n",
       "      <td>1.234246</td>\n",
       "    </tr>\n",
       "    <tr>\n",
       "      <td>1800</td>\n",
       "      <td>1.188400</td>\n",
       "      <td>1.195544</td>\n",
       "    </tr>\n",
       "    <tr>\n",
       "      <td>2000</td>\n",
       "      <td>1.131500</td>\n",
       "      <td>1.182381</td>\n",
       "    </tr>\n",
       "  </tbody>\n",
       "</table><p>"
      ],
      "text/plain": [
       "<IPython.core.display.HTML object>"
      ]
     },
     "metadata": {},
     "output_type": "display_data"
    },
    {
     "ename": "RuntimeError",
     "evalue": "[enforce fail at inline_container.cc:659] . unexpected pos 438121728 vs 438121620",
     "output_type": "error",
     "traceback": [
      "\u001b[31m---------------------------------------------------------------------------\u001b[39m",
      "\u001b[31mRuntimeError\u001b[39m                              Traceback (most recent call last)",
      "\u001b[36mFile \u001b[39m\u001b[32m/venv/main/lib/python3.12/site-packages/torch/serialization.py:965\u001b[39m, in \u001b[36msave\u001b[39m\u001b[34m(obj, f, pickle_module, pickle_protocol, _use_new_zipfile_serialization, _disable_byteorder_record)\u001b[39m\n\u001b[32m    964\u001b[39m \u001b[38;5;28;01mwith\u001b[39;00m _open_zipfile_writer(f) \u001b[38;5;28;01mas\u001b[39;00m opened_zipfile:\n\u001b[32m--> \u001b[39m\u001b[32m965\u001b[39m     \u001b[43m_save\u001b[49m\u001b[43m(\u001b[49m\n\u001b[32m    966\u001b[39m \u001b[43m        \u001b[49m\u001b[43mobj\u001b[49m\u001b[43m,\u001b[49m\n\u001b[32m    967\u001b[39m \u001b[43m        \u001b[49m\u001b[43mopened_zipfile\u001b[49m\u001b[43m,\u001b[49m\n\u001b[32m    968\u001b[39m \u001b[43m        \u001b[49m\u001b[43mpickle_module\u001b[49m\u001b[43m,\u001b[49m\n\u001b[32m    969\u001b[39m \u001b[43m        \u001b[49m\u001b[43mpickle_protocol\u001b[49m\u001b[43m,\u001b[49m\n\u001b[32m    970\u001b[39m \u001b[43m        \u001b[49m\u001b[43m_disable_byteorder_record\u001b[49m\u001b[43m,\u001b[49m\n\u001b[32m    971\u001b[39m \u001b[43m    \u001b[49m\u001b[43m)\u001b[49m\n\u001b[32m    972\u001b[39m     \u001b[38;5;28;01mreturn\u001b[39;00m\n",
      "\u001b[36mFile \u001b[39m\u001b[32m/venv/main/lib/python3.12/site-packages/torch/serialization.py:1266\u001b[39m, in \u001b[36m_save\u001b[39m\u001b[34m(obj, zip_file, pickle_module, pickle_protocol, _disable_byteorder_record)\u001b[39m\n\u001b[32m   1265\u001b[39m \u001b[38;5;66;03m# Now that it is on the CPU we can directly copy it into the zip file\u001b[39;00m\n\u001b[32m-> \u001b[39m\u001b[32m1266\u001b[39m \u001b[43mzip_file\u001b[49m\u001b[43m.\u001b[49m\u001b[43mwrite_record\u001b[49m\u001b[43m(\u001b[49m\u001b[43mname\u001b[49m\u001b[43m,\u001b[49m\u001b[43m \u001b[49m\u001b[43mstorage\u001b[49m\u001b[43m,\u001b[49m\u001b[43m \u001b[49m\u001b[43mnum_bytes\u001b[49m\u001b[43m)\u001b[49m\n",
      "\u001b[31mRuntimeError\u001b[39m: [enforce fail at inline_container.cc:857] . PytorchStreamWriter failed writing file data/85: file write failed",
      "\nDuring handling of the above exception, another exception occurred:\n",
      "\u001b[31mRuntimeError\u001b[39m                              Traceback (most recent call last)",
      "\u001b[36mCell\u001b[39m\u001b[36m \u001b[39m\u001b[32mIn[37]\u001b[39m\u001b[32m, line 44\u001b[39m\n\u001b[32m      1\u001b[39m args = Seq2SeqTrainingArguments(\n\u001b[32m      2\u001b[39m     output_dir=\u001b[33m'\u001b[39m\u001b[33mt5_mt_en_es\u001b[39m\u001b[33m'\u001b[39m,\n\u001b[32m      3\u001b[39m \n\u001b[32m   (...)\u001b[39m\u001b[32m     32\u001b[39m     load_best_model_at_end=\u001b[38;5;28;01mTrue\u001b[39;00m,    \u001b[38;5;66;03m# after training, load the best checkpoint\u001b[39;00m\n\u001b[32m     33\u001b[39m )\n\u001b[32m     35\u001b[39m trainer = Seq2SeqTrainer(\n\u001b[32m     36\u001b[39m     model=t5_ft,\n\u001b[32m     37\u001b[39m     args=args,\n\u001b[32m   (...)\u001b[39m\u001b[32m     41\u001b[39m     data_collator=data_collator,\n\u001b[32m     42\u001b[39m )\n\u001b[32m---> \u001b[39m\u001b[32m44\u001b[39m \u001b[43mtrainer\u001b[49m\u001b[43m.\u001b[49m\u001b[43mtrain\u001b[49m\u001b[43m(\u001b[49m\u001b[43m)\u001b[49m\n",
      "\u001b[36mFile \u001b[39m\u001b[32m/venv/main/lib/python3.12/site-packages/transformers/trainer.py:2328\u001b[39m, in \u001b[36mTrainer.train\u001b[39m\u001b[34m(self, resume_from_checkpoint, trial, ignore_keys_for_eval, **kwargs)\u001b[39m\n\u001b[32m   2326\u001b[39m         hf_hub_utils.enable_progress_bars()\n\u001b[32m   2327\u001b[39m \u001b[38;5;28;01melse\u001b[39;00m:\n\u001b[32m-> \u001b[39m\u001b[32m2328\u001b[39m     \u001b[38;5;28;01mreturn\u001b[39;00m \u001b[43minner_training_loop\u001b[49m\u001b[43m(\u001b[49m\n\u001b[32m   2329\u001b[39m \u001b[43m        \u001b[49m\u001b[43margs\u001b[49m\u001b[43m=\u001b[49m\u001b[43margs\u001b[49m\u001b[43m,\u001b[49m\n\u001b[32m   2330\u001b[39m \u001b[43m        \u001b[49m\u001b[43mresume_from_checkpoint\u001b[49m\u001b[43m=\u001b[49m\u001b[43mresume_from_checkpoint\u001b[49m\u001b[43m,\u001b[49m\n\u001b[32m   2331\u001b[39m \u001b[43m        \u001b[49m\u001b[43mtrial\u001b[49m\u001b[43m=\u001b[49m\u001b[43mtrial\u001b[49m\u001b[43m,\u001b[49m\n\u001b[32m   2332\u001b[39m \u001b[43m        \u001b[49m\u001b[43mignore_keys_for_eval\u001b[49m\u001b[43m=\u001b[49m\u001b[43mignore_keys_for_eval\u001b[49m\u001b[43m,\u001b[49m\n\u001b[32m   2333\u001b[39m \u001b[43m    \u001b[49m\u001b[43m)\u001b[49m\n",
      "\u001b[36mFile \u001b[39m\u001b[32m/venv/main/lib/python3.12/site-packages/transformers/trainer.py:2754\u001b[39m, in \u001b[36mTrainer._inner_training_loop\u001b[39m\u001b[34m(self, batch_size, args, resume_from_checkpoint, trial, ignore_keys_for_eval)\u001b[39m\n\u001b[32m   2752\u001b[39m     \u001b[38;5;28mself\u001b[39m.state.epoch = epoch + (step + \u001b[32m1\u001b[39m + steps_skipped) / steps_in_epoch\n\u001b[32m   2753\u001b[39m     \u001b[38;5;28mself\u001b[39m.control = \u001b[38;5;28mself\u001b[39m.callback_handler.on_step_end(args, \u001b[38;5;28mself\u001b[39m.state, \u001b[38;5;28mself\u001b[39m.control)\n\u001b[32m-> \u001b[39m\u001b[32m2754\u001b[39m     \u001b[38;5;28;43mself\u001b[39;49m\u001b[43m.\u001b[49m\u001b[43m_maybe_log_save_evaluate\u001b[49m\u001b[43m(\u001b[49m\n\u001b[32m   2755\u001b[39m \u001b[43m        \u001b[49m\u001b[43mtr_loss\u001b[49m\u001b[43m,\u001b[49m\n\u001b[32m   2756\u001b[39m \u001b[43m        \u001b[49m\u001b[43mgrad_norm\u001b[49m\u001b[43m,\u001b[49m\n\u001b[32m   2757\u001b[39m \u001b[43m        \u001b[49m\u001b[43mmodel\u001b[49m\u001b[43m,\u001b[49m\n\u001b[32m   2758\u001b[39m \u001b[43m        \u001b[49m\u001b[43mtrial\u001b[49m\u001b[43m,\u001b[49m\n\u001b[32m   2759\u001b[39m \u001b[43m        \u001b[49m\u001b[43mepoch\u001b[49m\u001b[43m,\u001b[49m\n\u001b[32m   2760\u001b[39m \u001b[43m        \u001b[49m\u001b[43mignore_keys_for_eval\u001b[49m\u001b[43m,\u001b[49m\n\u001b[32m   2761\u001b[39m \u001b[43m        \u001b[49m\u001b[43mstart_time\u001b[49m\u001b[43m,\u001b[49m\n\u001b[32m   2762\u001b[39m \u001b[43m        \u001b[49m\u001b[43mlearning_rate\u001b[49m\u001b[43m=\u001b[49m\u001b[43mlearning_rate\u001b[49m\u001b[43m,\u001b[49m\n\u001b[32m   2763\u001b[39m \u001b[43m    \u001b[49m\u001b[43m)\u001b[49m\n\u001b[32m   2764\u001b[39m \u001b[38;5;28;01melse\u001b[39;00m:\n\u001b[32m   2765\u001b[39m     \u001b[38;5;28mself\u001b[39m.control = \u001b[38;5;28mself\u001b[39m.callback_handler.on_substep_end(args, \u001b[38;5;28mself\u001b[39m.state, \u001b[38;5;28mself\u001b[39m.control)\n",
      "\u001b[36mFile \u001b[39m\u001b[32m/venv/main/lib/python3.12/site-packages/transformers/trainer.py:3234\u001b[39m, in \u001b[36mTrainer._maybe_log_save_evaluate\u001b[39m\u001b[34m(self, tr_loss, grad_norm, model, trial, epoch, ignore_keys_for_eval, start_time, learning_rate)\u001b[39m\n\u001b[32m   3231\u001b[39m         \u001b[38;5;28mself\u001b[39m.control.should_save = is_new_best_metric\n\u001b[32m   3233\u001b[39m \u001b[38;5;28;01mif\u001b[39;00m \u001b[38;5;28mself\u001b[39m.control.should_save:\n\u001b[32m-> \u001b[39m\u001b[32m3234\u001b[39m     \u001b[38;5;28;43mself\u001b[39;49m\u001b[43m.\u001b[49m\u001b[43m_save_checkpoint\u001b[49m\u001b[43m(\u001b[49m\u001b[43mmodel\u001b[49m\u001b[43m,\u001b[49m\u001b[43m \u001b[49m\u001b[43mtrial\u001b[49m\u001b[43m)\u001b[49m\n\u001b[32m   3235\u001b[39m     \u001b[38;5;28mself\u001b[39m.control = \u001b[38;5;28mself\u001b[39m.callback_handler.on_save(\u001b[38;5;28mself\u001b[39m.args, \u001b[38;5;28mself\u001b[39m.state, \u001b[38;5;28mself\u001b[39m.control)\n",
      "\u001b[36mFile \u001b[39m\u001b[32m/venv/main/lib/python3.12/site-packages/transformers/trainer.py:3342\u001b[39m, in \u001b[36mTrainer._save_checkpoint\u001b[39m\u001b[34m(self, model, trial)\u001b[39m\n\u001b[32m   3338\u001b[39m         \u001b[38;5;28mself\u001b[39m.state.best_model_checkpoint = best_checkpoint_dir\n\u001b[32m   3340\u001b[39m \u001b[38;5;28;01mif\u001b[39;00m \u001b[38;5;129;01mnot\u001b[39;00m \u001b[38;5;28mself\u001b[39m.args.save_only_model:\n\u001b[32m   3341\u001b[39m     \u001b[38;5;66;03m# Save optimizer and scheduler\u001b[39;00m\n\u001b[32m-> \u001b[39m\u001b[32m3342\u001b[39m     \u001b[38;5;28;43mself\u001b[39;49m\u001b[43m.\u001b[49m\u001b[43m_save_optimizer_and_scheduler\u001b[49m\u001b[43m(\u001b[49m\u001b[43moutput_dir\u001b[49m\u001b[43m)\u001b[49m\n\u001b[32m   3343\u001b[39m     \u001b[38;5;28mself\u001b[39m._save_scaler(output_dir)\n\u001b[32m   3344\u001b[39m     \u001b[38;5;66;03m# Save RNG state\u001b[39;00m\n",
      "\u001b[36mFile \u001b[39m\u001b[32m/venv/main/lib/python3.12/site-packages/transformers/trainer.py:3469\u001b[39m, in \u001b[36mTrainer._save_optimizer_and_scheduler\u001b[39m\u001b[34m(self, output_dir)\u001b[39m\n\u001b[32m   3464\u001b[39m     save_fsdp_optimizer(\n\u001b[32m   3465\u001b[39m         \u001b[38;5;28mself\u001b[39m.accelerator.state.fsdp_plugin, \u001b[38;5;28mself\u001b[39m.accelerator, \u001b[38;5;28mself\u001b[39m.optimizer, \u001b[38;5;28mself\u001b[39m.model, output_dir\n\u001b[32m   3466\u001b[39m     )\n\u001b[32m   3467\u001b[39m \u001b[38;5;28;01melif\u001b[39;00m \u001b[38;5;28mself\u001b[39m.args.should_save:\n\u001b[32m   3468\u001b[39m     \u001b[38;5;66;03m# deepspeed.save_checkpoint above saves model/optim/sched\u001b[39;00m\n\u001b[32m-> \u001b[39m\u001b[32m3469\u001b[39m     \u001b[43mtorch\u001b[49m\u001b[43m.\u001b[49m\u001b[43msave\u001b[49m\u001b[43m(\u001b[49m\u001b[38;5;28;43mself\u001b[39;49m\u001b[43m.\u001b[49m\u001b[43moptimizer\u001b[49m\u001b[43m.\u001b[49m\u001b[43mstate_dict\u001b[49m\u001b[43m(\u001b[49m\u001b[43m)\u001b[49m\u001b[43m,\u001b[49m\u001b[43m \u001b[49m\u001b[43mos\u001b[49m\u001b[43m.\u001b[49m\u001b[43mpath\u001b[49m\u001b[43m.\u001b[49m\u001b[43mjoin\u001b[49m\u001b[43m(\u001b[49m\u001b[43moutput_dir\u001b[49m\u001b[43m,\u001b[49m\u001b[43m \u001b[49m\u001b[43mOPTIMIZER_NAME\u001b[49m\u001b[43m)\u001b[49m\u001b[43m)\u001b[49m\n\u001b[32m   3471\u001b[39m \u001b[38;5;66;03m# Save SCHEDULER & SCALER\u001b[39;00m\n\u001b[32m   3472\u001b[39m is_deepspeed_custom_scheduler = \u001b[38;5;28mself\u001b[39m.is_deepspeed_enabled \u001b[38;5;129;01mand\u001b[39;00m \u001b[38;5;129;01mnot\u001b[39;00m \u001b[38;5;28misinstance\u001b[39m(\n\u001b[32m   3473\u001b[39m     \u001b[38;5;28mself\u001b[39m.lr_scheduler, DeepSpeedSchedulerWrapper\n\u001b[32m   3474\u001b[39m )\n",
      "\u001b[36mFile \u001b[39m\u001b[32m/venv/main/lib/python3.12/site-packages/torch/serialization.py:964\u001b[39m, in \u001b[36msave\u001b[39m\u001b[34m(obj, f, pickle_module, pickle_protocol, _use_new_zipfile_serialization, _disable_byteorder_record)\u001b[39m\n\u001b[32m    961\u001b[39m     f = os.fspath(f)\n\u001b[32m    963\u001b[39m \u001b[38;5;28;01mif\u001b[39;00m _use_new_zipfile_serialization:\n\u001b[32m--> \u001b[39m\u001b[32m964\u001b[39m     \u001b[38;5;28;01mwith\u001b[39;00m _open_zipfile_writer(f) \u001b[38;5;28;01mas\u001b[39;00m opened_zipfile:\n\u001b[32m    965\u001b[39m         _save(\n\u001b[32m    966\u001b[39m             obj,\n\u001b[32m    967\u001b[39m             opened_zipfile,\n\u001b[32m   (...)\u001b[39m\u001b[32m    970\u001b[39m             _disable_byteorder_record,\n\u001b[32m    971\u001b[39m         )\n\u001b[32m    972\u001b[39m         \u001b[38;5;28;01mreturn\u001b[39;00m\n",
      "\u001b[36mFile \u001b[39m\u001b[32m/venv/main/lib/python3.12/site-packages/torch/serialization.py:798\u001b[39m, in \u001b[36m_open_zipfile_writer_file.__exit__\u001b[39m\u001b[34m(self, *args)\u001b[39m\n\u001b[32m    797\u001b[39m \u001b[38;5;28;01mdef\u001b[39;00m\u001b[38;5;250m \u001b[39m\u001b[34m__exit__\u001b[39m(\u001b[38;5;28mself\u001b[39m, *args) -> \u001b[38;5;28;01mNone\u001b[39;00m:\n\u001b[32m--> \u001b[39m\u001b[32m798\u001b[39m     \u001b[38;5;28;43mself\u001b[39;49m\u001b[43m.\u001b[49m\u001b[43mfile_like\u001b[49m\u001b[43m.\u001b[49m\u001b[43mwrite_end_of_file\u001b[49m\u001b[43m(\u001b[49m\u001b[43m)\u001b[49m\n\u001b[32m    799\u001b[39m     \u001b[38;5;28;01mif\u001b[39;00m \u001b[38;5;28mself\u001b[39m.file_stream \u001b[38;5;129;01mis\u001b[39;00m \u001b[38;5;129;01mnot\u001b[39;00m \u001b[38;5;28;01mNone\u001b[39;00m:\n\u001b[32m    800\u001b[39m         \u001b[38;5;28mself\u001b[39m.file_stream.close()\n",
      "\u001b[31mRuntimeError\u001b[39m: [enforce fail at inline_container.cc:659] . unexpected pos 438121728 vs 438121620"
     ]
    }
   ],
   "source": [
    "args = Seq2SeqTrainingArguments(\n",
    "    output_dir='t5_mt_en_es',\n",
    "    \n",
    "    num_train_epochs=3,\n",
    "    per_device_train_batch_size=64,\n",
    "    per_device_eval_batch_size=64,\n",
    "    learning_rate=4e-4,\n",
    "    max_grad_norm=1.0,\n",
    "\n",
    "    lr_scheduler_type=\"cosine\",\n",
    "    predict_with_generate=True,\n",
    "    generation_max_length=MAX_TARGET_MT,\n",
    "    seed=SEED,\n",
    "\n",
    "    # Efficiency\n",
    "    group_by_length=True,       # minimize padding in each batch\n",
    "\n",
    "    # Precision / memory\n",
    "    gradient_checkpointing=True,\n",
    "\n",
    "    # Logging & eval\n",
    "    report_to=[],\n",
    "    run_name=None,\n",
    "    logging_strategy=\"steps\",\n",
    "    logging_steps=200,\n",
    "    eval_strategy=\"steps\",\n",
    "    eval_steps=200,\n",
    "    \n",
    "    save_strategy=\"no\",\n",
    "    #save_strategy=\"steps\",\n",
    "    #save_steps=400,\n",
    "    save_total_limit=1,             # keep only {best, most recent}\n",
    "    load_best_model_at_end=True,    # after training, load the best checkpoint\n",
    ")\n",
    "\n",
    "trainer = Seq2SeqTrainer(\n",
    "    model=t5_ft,\n",
    "    args=args,\n",
    "    train_dataset=train_proc,\n",
    "    eval_dataset=valid_proc,\n",
    "    processing_class=t5_tok,\n",
    "    data_collator=data_collator,\n",
    ")\n",
    "\n",
    "trainer.train()"
   ]
  },
  {
   "cell_type": "markdown",
   "id": "16c33dee",
   "metadata": {},
   "source": [
    "Now lets see how our tuned model works"
   ]
  },
  {
   "cell_type": "markdown",
   "id": "5034e3c8",
   "metadata": {},
   "source": [
    "Run the same evaluation as before on the test split. If BLEU improves, open a few before/after examples to see what changed. Are we staying in Spanish more reliably?"
   ]
  },
  {
   "cell_type": "code",
   "execution_count": 38,
   "id": "b8a3fed9",
   "metadata": {},
   "outputs": [
    {
     "name": "stdout",
     "output_type": "stream",
     "text": [
      "=   Evaluating fine-tuned T5 with strategy 'minimal_instruction' on Test! =\n"
     ]
    },
    {
     "name": "stderr",
     "output_type": "stream",
     "text": [
      "100%|██████████| 32/32 [00:32<00:00,  1.00s/it]\n"
     ]
    },
    {
     "name": "stdout",
     "output_type": "stream",
     "text": [
      "-> BLEU: 21.476097211416764\n",
      "\n"
     ]
    }
   ],
   "source": [
    "\n",
    "print(f\"=   Evaluating fine-tuned T5 with strategy '{STRATEGY}' on Test! =\")\n",
    "t5 = trainer.model.eval()\n",
    "t5_tok = trainer.processing_class\n",
    "prompts, references = apply_mt_prompt_strategy(STRATEGY, dataset)\n",
    "predictions = seq2seq_inference(t5, t5_tok, prompts, batch_size=64)\n",
    "scores = evaluate_bleu(predictions, references)\n",
    "print(f\"-> BLEU: {scores['score']}\", end='\\n\\n')\n"
   ]
  },
  {
   "cell_type": "markdown",
   "id": "e82b80f4",
   "metadata": {},
   "source": [
    "The model improved from approx 3 to 22 in BLEU. A jump from a very low BLEU into the 20s is a healthy sign that fine‑tuning helped. It does not tell the whole though, as proper translation quality meassurement require more complex semantic and pragmatic approaches.\n",
    "\n",
    "However, we can use our judgement to see wether the translations improved by comparing a few example to the old ones."
   ]
  },
  {
   "cell_type": "code",
   "execution_count": 39,
   "id": "448776b6",
   "metadata": {},
   "outputs": [
    {
     "name": "stdout",
     "output_type": "stream",
     "text": [
      "== T5 with strategy 'minimal_instruction' ==\n"
     ]
    },
    {
     "name": "stderr",
     "output_type": "stream",
     "text": [
      "100%|██████████| 1/1 [00:00<00:00,  1.05it/s]"
     ]
    },
    {
     "name": "stdout",
     "output_type": "stream",
     "text": [
      "prompt: 'Translate English to Spanish: If only we can get down to them.'\n",
      "reference: 'Si tan solo pudiéramos bajar.'\n",
      "prediction: 'Si sólo podemos irnos a ellos.'\n",
      "expected: 'Spanish', got: 'Spanish'\n",
      "\n",
      "prompt: 'Translate English to Spanish: Okay, that bitch is dead.'\n",
      "reference: 'Okay, esa perra esta muerta.'\n",
      "prediction: 'Bueno, esa horse está muerta.'\n",
      "expected: 'Spanish', got: 'Spanish'\n",
      "\n",
      "prompt: 'Translate English to Spanish: This is some sort of joke, right?'\n",
      "reference: 'Esta es una especie de broma, ¿verdad?'\n",
      "prediction: 'Esto es una gluma, verdad?'\n",
      "expected: 'Spanish', got: 'Spanish'\n",
      "\n",
      "prompt: 'Translate English to Spanish: Michaelson, can you hear me?'\n",
      "reference: 'Michaelson, puedes escucharme?'\n",
      "prediction: 'Michaelson, puedes escucharme?'\n",
      "expected: 'Spanish', got: 'Spanish'\n",
      "\n",
      "prompt: 'Translate English to Spanish: \"The ethical and moral responsibilities linked with scientific research can, then, be seen as an internal requirement of science inasmuch as it is a fully human activity, and not as a control or, worse still, an imposition that comes from outside.\"'\n",
      "reference: 'Más adelante, el Papa manifestó que \"las responsabilidades éticas y morales ligadas a la investigación científica deben ser tomadas como una exigencia interna a la ciencia en cuanto actividad plenamente humana, no como un control o una imposición que venga de fuera\".'\n",
      "prediction: '\"Las responsabilidades éticas y morales relacionadas con la investigación cientfica pueden ser vistas como una requisición interna de la cientfica en cuanto'\n",
      "expected: 'Spanish', got: 'Spanish'\n",
      "\n"
     ]
    },
    {
     "name": "stderr",
     "output_type": "stream",
     "text": [
      "\n"
     ]
    }
   ],
   "source": [
    "# %%\n",
    "\n",
    "from langdetect import detect, DetectorFactory\n",
    "from langcodes import Language\n",
    "DetectorFactory.seed = SEED\n",
    "\n",
    "STRATEGY = \"minimal_instruction\"\n",
    "\n",
    "print(f\"== T5 with strategy '{STRATEGY}' ==\")\n",
    "prompts, references = apply_mt_prompt_strategy(STRATEGY, dataset.select(range(5)))\n",
    "predictions = seq2seq_inference(t5, t5_tok, prompts, batch_size=32)\n",
    "\n",
    "for prompt, reference, prediction in zip(prompts, references, predictions):\n",
    "    print(f\"prompt: '{prompt}'\\nreference: '{reference}'\\nprediction: '{prediction}'\")\n",
    "    \n",
    "    try:\n",
    "        lang_ref = Language.make(detect(reference)).display_name()\n",
    "    except:\n",
    "        lang_ref = 'unk'\n",
    "    try:\n",
    "        lang_pred = Language.make(detect(prediction)).display_name()\n",
    "    except:\n",
    "        lang_pred = 'unk'\n",
    "\n",
    "    print(f\"expected: '{lang_ref}', got: '{lang_pred}'\\n\")"
   ]
  },
  {
   "cell_type": "markdown",
   "id": "b72241a1",
   "metadata": {},
   "source": [
    "We did it! now **T5** knows how to translate somewhat to spanish! a totally new language it was not trained on originally!"
   ]
  },
  {
   "cell_type": "code",
   "execution_count": 40,
   "id": "378963b0",
   "metadata": {},
   "outputs": [],
   "source": [
    "del t5_ft, t5, trainer\n",
    "clear_memory()"
   ]
  },
  {
   "cell_type": "markdown",
   "id": "9f6d4a1b",
   "metadata": {},
   "source": [
    "## Wrap‑up & what to try next\n",
    "\n",
    "You’ve now walked the full route twice: meet the data, write a clear prompt, choose sensible decoding, measure what you get, and fine‑tune to improve it. In QA, that meant short, precise answers; in translation, it meant staying in the right language and preserving meaning.\n",
    "\n",
    "If you want to keep exploring, change the prompt wording and decoding settings and see how tone and accuracy shift. Try a multilingual checkpoint and compare off‑target behavior. For translation, compute chrF alongside BLEU and decide which tells a better story for your sample. Keep a few before/after examples— they make improvements feel real.\n",
    "\n",
    "## References\n",
    "\n",
    "- **Stanford Question Answering Dataset (SQuAD)** – A reading‑comprehension dataset where crowdworkers ask questions about Wikipedia articles and answers are spans from the passages. SQuAD 2.0 also includes unanswerable questions.  The dataset is distributed under a CC BY‑SA 4.0 licence.\n",
    "\n",
    "- **OPUS‑100 multilingual corpus** – An English‑centric corpus covering 100 languages sampled from the OPUS collection.  The dataset is split into training, development and test sets; up to 1 million sentence pairs are sampled per language pair for training and up to 2 thousand pairs for development and test.\n",
    "\n",
    "- **T5‑Base model** – A 220‑million‑parameter Text‑to‑Text Transfer Transformer which reframes all NLP tasks into a unified text‑to‑text.  The base checkpoint supports English, French, Romanian and German and is released under the Apache 2.0 licence.\n",
    "\n",
    "- **GPT‑2 (small)** – A causal Transformer language model pretrained on a large corpus of English text to predict the next token.  The 124 M‑parameter version is suitable for downstream fine‑tuning and is distributed with an MIT licence.\n",
    "\n",
    "- **SacreBLEU** – An evaluation library for machine‑translation research that computes reproducible BLEU, chrF and TER scores. It wraps the WMT BLEU implementation and automatically downloads standard test sets.\n",
    "\n",
    "- **🤗 Evaluate** – A Hugging Face library providing a unified interface to dozens of evaluation metrics across NLP, computer vision and reinforcement learning tasks.\n",
    "\n",
    "- **TRL (Transformer Reinforcement Learning)** – A Hugging Face library offering tools for post‑training transformer models, including Supervised Fine‑Tuning (SFT) and reinforcement‑learning methods like GRPO and DPO. It integrates closely with the transformers library.\n",
    "\n"
   ]
  }
 ],
 "metadata": {
  "kernelspec": {
   "display_name": "Python3 (ipykernel)",
   "language": "python",
   "name": "python3"
  },
  "language_info": {
   "codemirror_mode": {
    "name": "ipython",
    "version": 3
   },
   "file_extension": ".py",
   "mimetype": "text/x-python",
   "name": "python",
   "nbconvert_exporter": "python",
   "pygments_lexer": "ipython3",
   "version": "3.12.11"
  }
 },
 "nbformat": 4,
 "nbformat_minor": 5
}
